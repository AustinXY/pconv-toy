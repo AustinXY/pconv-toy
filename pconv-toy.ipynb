{
  "nbformat": 4,
  "nbformat_minor": 0,
  "metadata": {
    "kernelspec": {
      "display_name": "Python 3",
      "language": "python",
      "name": "python3"
    },
    "language_info": {
      "codemirror_mode": {
        "name": "ipython",
        "version": 3
      },
      "file_extension": ".py",
      "mimetype": "text/x-python",
      "name": "python",
      "nbconvert_exporter": "python",
      "pygments_lexer": "ipython3",
      "version": "3.6.10"
    },
    "colab": {
      "name": "pconv-toy.ipynb",
      "provenance": []
    }
  },
  "cells": [
    {
      "cell_type": "code",
      "metadata": {
        "scrolled": true,
        "id": "MsJ-8UM_sETP",
        "colab_type": "code",
        "colab": {}
      },
      "source": [
        "import torch\n",
        "import numpy as np\n",
        "import torch.nn as nn\n",
        "import torch.nn.functional as F\n",
        "import torchvision.transforms as transforms\n",
        "from PIL import Image\n",
        "import matplotlib.pyplot as plt\n",
        "import torch.optim as optim\n",
        "import time\n",
        "from torch.autograd import Variable\n",
        "import torchvision"
      ],
      "execution_count": null,
      "outputs": []
    },
    {
      "cell_type": "code",
      "metadata": {
        "id": "2SIKZDPksETS",
        "colab_type": "code",
        "colab": {}
      },
      "source": [
        "class G(nn.Module):\n",
        "    def __init__(self):\n",
        "        super().__init__()\n",
        "        self.ngf = 64\n",
        "        self.define_module()\n",
        "\n",
        "    def define_module(self):\n",
        "        ngf = self.ngf\n",
        "        in_dim = 64\n",
        "        self.fc = nn.Sequential(\n",
        "            nn.Linear(in_dim, ngf * 4 * 4, bias=False),\n",
        "            nn.BatchNorm1d(ngf * 4 * 4),\n",
        "            nn.LeakyReLU(0.2, inplace=True))\n",
        "\n",
        "        self.upsample1 = upBlock(ngf, ngf // 2)\n",
        "        self.upsample2 = upBlock(ngf // 2, ngf // 4)\n",
        "        self.to_rgb = TO_RGB_LAYER(ngf // 4)\n",
        "\n",
        "    def forward(self, z_code):\n",
        "        out_code = self.fc(z_code)\n",
        "        out_code = out_code.view(-1, self.ngf, 4, 4)  # 64 * 4 * 4\n",
        "        out_code = self.upsample1(out_code)              # 32 * 8 * 8\n",
        "        out_code = self.upsample2(out_code)              # 16 * 16 * 16\n",
        "        img = self.to_rgb(out_code)\n",
        "        return img\n",
        "    \n",
        "\n",
        "class D(nn.Module):\n",
        "    def __init__(self):\n",
        "        super().__init__()\n",
        "        self.define_module()\n",
        "\n",
        "    def define_module(self):\n",
        "        ndf = 16\n",
        "        self.from_rgb = fromRGB_layer(ndf)\n",
        "        self.downblock1 = downBlock_p(ndf, ndf * 2, 3, 1, 1)\n",
        "        self.downblock2 = downBlock_p(ndf * 2, ndf * 4, 3, 1, 1)\n",
        "#         self.downblock3 = downBlock_p(ndf * 2, ndf * 2, 3, 1, 1)\n",
        "        self.uncond_logits = PartialConv(ndf * 4, 1, kernel_size=4, stride=4)\n",
        "    def forward(self, x_var, mask=None):\n",
        "        \"\"\"\n",
        "        - x_var (tensor): 3x16x16\n",
        "        - mask (tensor): 1x16x16\n",
        "        \"\"\"\n",
        "        x_code = self.from_rgb(x_var)                 # 16 * 16 * 16\n",
        "        x_code, mask = self.downblock1(x_code, mask)  # 32 * 8 * 8\n",
        "        x_code, mask = self.downblock2(x_code, mask)  # 64 * 4 * 4\n",
        "\n",
        "        rf_score, _ = self.uncond_logits(x_code, mask)\n",
        "        rf_score = F.sigmoid(rf_score)\n",
        "        return rf_score.view(-1)"
      ],
      "execution_count": null,
      "outputs": []
    },
    {
      "cell_type": "code",
      "metadata": {
        "id": "eoRt86b_sETU",
        "colab_type": "code",
        "colab": {}
      },
      "source": [
        "def weights_init(m):\n",
        "    classname = m.__class__.__name__\n",
        "    if isinstance(m, nn.Conv2d):\n",
        "        nn.init.orthogonal(m.weight.data, 1.0)\n",
        "    elif isinstance(m, nn.BatchNorm2d):\n",
        "        m.weight.data.normal_(1.0, 0.02)\n",
        "        m.bias.data.fill_(0)\n",
        "    elif isinstance(m, nn.Linear):\n",
        "        nn.init.orthogonal(m.weight.data, 1.0)\n",
        "        if m.bias is not None:\n",
        "            m.bias.data.fill_(0.0)\n",
        "    elif classname == 'PartialConv':\n",
        "        nn.init.constant_(m.mask_conv.weight.data, 1.0)\n",
        "\n",
        "        \n",
        "def upBlock(in_planes, out_planes):\n",
        "    block = nn.Sequential(\n",
        "        nn.Upsample(scale_factor=2, mode='nearest'),\n",
        "        nn.Conv2d(in_planes, out_planes, kernel_size=3, stride=1, padding=1, bias=False),\n",
        "        nn.BatchNorm2d(out_planes),\n",
        "        nn.LeakyReLU(0.2, inplace=True))\n",
        "    return block\n",
        "\n",
        "\n",
        "class TO_RGB_LAYER(nn.Module):\n",
        "    def __init__(self, ngf):\n",
        "        super().__init__()\n",
        "        self.gf_dim = ngf\n",
        "        self.img = nn.Sequential(\n",
        "            nn.Conv2d(ngf, 3, kernel_size=3, stride=1, padding=1, bias=False),\n",
        "            nn.Tanh()\n",
        "        )\n",
        "\n",
        "    def forward(self, h_code):\n",
        "        out_img = self.img(h_code)\n",
        "        return out_img\n",
        "\n",
        "    \n",
        "class PartialConv(nn.Module):\n",
        "    def __init__(self, in_channels, out_channels, kernel_size=3, stride=1, padding=1, \n",
        "                 dilation=1, groups=1,bias=False):\n",
        "        super().__init__()\n",
        "        self.input_conv = nn.Conv2d(\n",
        "            in_channels, out_channels, kernel_size, stride, padding, dilation, groups, bias)\n",
        "        self.mask_conv = nn.Conv2d(\n",
        "            1, 1, kernel_size, stride, padding, dilation, groups, False)\n",
        "\n",
        "        # mask is not updated\n",
        "        for param in self.mask_conv.parameters():\n",
        "            param.requires_grad = False\n",
        "\n",
        "        self.bias = self.input_conv.bias\n",
        "\n",
        "    def forward(self, input, mask):\n",
        "        \"\"\"\n",
        "        input is regular tensor with shape N*C*H*W\n",
        "        mask has to have 1 channel N*1*H*W\n",
        "\n",
        "        mask: 0's for foreground\n",
        "        \"\"\"\n",
        "        if mask is None:\n",
        "            return self.input_conv(input), mask\n",
        "        \n",
        "        output = self.input_conv(input * mask)\n",
        "        # get bias which will be used later\n",
        "        if self.input_conv.bias is not None:\n",
        "            output_bias = self.input_conv.bias.view(1, -1, 1, 1).expand_as(output)\n",
        "        else:\n",
        "            output_bias = torch.zeros_like(output)\n",
        "\n",
        "        with torch.no_grad():\n",
        "            _frac = self.mask_conv(torch.ones_like(mask))\n",
        "            mask = self.mask_conv(mask)\n",
        "\n",
        "        no_update_holes = mask == 0\n",
        "        mask_ratio = _frac / mask.masked_fill_(no_update_holes, 1.0)\n",
        "        output_pre = (output - output_bias) * mask_ratio + output_bias\n",
        "        output = output_pre.masked_fill_(no_update_holes, 0.0)\n",
        "        new_mask = 1 - no_update_holes.float()\n",
        "        return output, mask\n",
        "\n",
        "\n",
        "class downBlock_p(nn.Module):\n",
        "    def __init__(self, in_channels, out_channels, kernel_size=3, stride=1, padding=0, \n",
        "                 dilation=1, groups=1, bias=False):\n",
        "        super().__init__()\n",
        "        self.conv = PartialConv(in_channels, out_channels,\n",
        "            kernel_size, stride, padding, dilation, groups, bias)\n",
        "        # self.bn = nn.BatchNorm2d(out_channels)\n",
        "\n",
        "    def forward(self, input, mask=None):\n",
        "        \"\"\"\n",
        "        input is regular tensor with shape N*C*H*W\n",
        "        mask has to have 1 channel N*1*H*W\n",
        "        \"\"\"\n",
        "        output, mask = self.conv(input, mask)\n",
        "        # output = self.bn(output)\n",
        "        output = F.leaky_relu(output, 0.2, inplace=True)\n",
        "        output = F.avg_pool2d(output, 2)\n",
        "        if mask is not None:\n",
        "            mask = F.avg_pool2d(mask, 2)\n",
        "            no_update_holes = mask == 0\n",
        "            mask = 1 - no_update_holes.float()\n",
        "        return output, mask\n",
        "    \n",
        "    \n",
        "def fromRGB_layer(out_planes):\n",
        "    layer = nn.Sequential(\n",
        "        nn.Conv2d(3, out_planes, 1, 1, 0, bias=False),\n",
        "        nn.LeakyReLU(0.2, inplace=True)\n",
        "    )\n",
        "    return layer"
      ],
      "execution_count": null,
      "outputs": []
    },
    {
      "cell_type": "code",
      "metadata": {
        "id": "3q-mPsvJsETX",
        "colab_type": "code",
        "colab": {}
      },
      "source": [
        "norm = transforms.Compose([\n",
        "    transforms.ToTensor(),\n",
        "    transforms.Normalize((0.5, 0.5, 0.5), (0.5, 0.5, 0.5))])\n",
        "\n",
        "def get_mask(imshape, bbox):\n",
        "    \"\"\"\n",
        "    mask: 0's for foreground\n",
        "    \"\"\"\n",
        "    c, r = imshape\n",
        "    x1, y1, w, h = bbox\n",
        "    x2 = x1 + w\n",
        "    y2 = y1 + h\n",
        "    mk = np.ones((r, c))\n",
        "    mk[y1: y2 + 1, x1: x2 + 1] = 0\n",
        "    return Image.fromarray(mk)\n",
        "\n",
        "def train_img_gen():\n",
        "    imsize = 16\n",
        "    img = 255 * np.concatenate((np.ones((imsize,imsize,1)), np.zeros((imsize,imsize,2))), axis=2).astype(np.uint8)\n",
        "    bbox = np.random.randint(0,imsize+1,4)\n",
        "    x1 = np.min(bbox[0:2])\n",
        "    x2 = np.max(bbox[0:2])\n",
        "    y1 = np.min(bbox[2:4])\n",
        "    y2 = np.max(bbox[2:4])\n",
        "    img[y1: y2 + 1, x1: x2 + 1, 0] = 0\n",
        "    img[y1: y2 + 1, x1: x2 + 1, 1] = 255\n",
        "#     print(x1,y1,x2,y2)\n",
        "    img = Image.fromarray(img)\n",
        "    mk = torch.ones((1, imsize, imsize))\n",
        "    mk[0, y1: y2 + 1, x1: x2 + 1] = 0\n",
        "#     plt.hold()\n",
        "#     plt.imshow(img)\n",
        "#     plt.imshow(mk)\n",
        "    return norm(img), mk"
      ],
      "execution_count": null,
      "outputs": []
    },
    {
      "cell_type": "code",
      "metadata": {
        "id": "a3zWgIlTsETZ",
        "colab_type": "code",
        "colab": {}
      },
      "source": [
        "def imshow(im):\n",
        "    _im = torchvision.utils.make_grid(im, pad_value=-1).detach().numpy()\n",
        "    _im = np.transpose(_im, (1, 2, 0))\n",
        "    _im = (_im + 1) * 255 / 2\n",
        "    _im = _im.astype(np.uint8)\n",
        "    plt.imshow(_im)"
      ],
      "execution_count": null,
      "outputs": []
    },
    {
      "cell_type": "code",
      "metadata": {
        "id": "eFQvlezlsETb",
        "colab_type": "code",
        "colab": {}
      },
      "source": [
        "def prepare_data(batch_size):\n",
        "    imsize = 16\n",
        "    im_li = []\n",
        "    mk_li = []\n",
        "    for i in range(batch_size):\n",
        "        im, mk = train_img_gen()\n",
        "        im = im.view(1, 3, imsize, imsize)\n",
        "        mk = mk.view(1, 1, imsize, imsize)\n",
        "        im_li.append(im)\n",
        "        mk_li.append(mk)\n",
        "    ims = torch.cat(im_li, dim=0)    \n",
        "    mks = torch.cat(mk_li, dim=0) \n",
        "    return ims, mks"
      ],
      "execution_count": null,
      "outputs": []
    },
    {
      "cell_type": "code",
      "metadata": {
        "id": "MTig0vYXsETd",
        "colab_type": "code",
        "colab": {}
      },
      "source": [
        "max_count = 20001\n",
        "batch_size = 16\n",
        "nz = 64"
      ],
      "execution_count": null,
      "outputs": []
    },
    {
      "cell_type": "code",
      "metadata": {
        "id": "0YDljOKjsETf",
        "colab_type": "code",
        "colab": {},
        "outputId": "c9c312d6-6912-4a37-9078-5c132f057dc8"
      },
      "source": [
        "netG = G()\n",
        "netD = D()\n",
        "netG.apply(weights_init)\n",
        "netD.apply(weights_init)\n",
        "optD = optim.Adam(netD.parameters(),\n",
        "                  lr=2e-4,\n",
        "                  betas=(0.5, 0.999))\n",
        "optG = optim.Adam(netG.parameters(),\n",
        "                  lr=2e-4,\n",
        "                  betas=(0.5, 0.999))\n",
        "criterion_one = nn.BCELoss()"
      ],
      "execution_count": null,
      "outputs": [
        {
          "output_type": "stream",
          "text": [
            "/Users/austin/anaconda3/lib/python3.6/site-packages/ipykernel_launcher.py:9: UserWarning: nn.init.orthogonal is now deprecated in favor of nn.init.orthogonal_.\n",
            "  if __name__ == '__main__':\n",
            "/Users/austin/anaconda3/lib/python3.6/site-packages/ipykernel_launcher.py:4: UserWarning: nn.init.orthogonal is now deprecated in favor of nn.init.orthogonal_.\n",
            "  after removing the cwd from sys.path.\n"
          ],
          "name": "stderr"
        }
      ]
    },
    {
      "cell_type": "code",
      "metadata": {
        "scrolled": true,
        "id": "RmzMxmdYsETi",
        "colab_type": "code",
        "colab": {},
        "outputId": "5ca29d2f-8266-41fd-f38f-f63680ac5029"
      },
      "source": [
        "ep = 0\n",
        "netG.train()\n",
        "\n",
        "start_t = time.time()\n",
        "for count in range(1, max_count):\n",
        "    ims, mks = prepare_data(batch_size)\n",
        "\n",
        "    noise = Variable(torch.FloatTensor(batch_size, nz))\n",
        "    noise.data.normal_(0, 1)\n",
        "    fake_ims = netG(noise)\n",
        "    \n",
        "    # train D    \n",
        "    netD.zero_grad()\n",
        "    real_logits = netD(ims, mks)\n",
        "    fake_logits = netD(fake_ims.detach())\n",
        "    fake_labels = torch.zeros_like(fake_logits)\n",
        "    real_labels = torch.ones_like(real_logits)\n",
        "    errD_real = criterion_one(real_logits, real_labels) # Real/Fake loss for the real image\n",
        "    errD_fake = criterion_one(fake_logits, fake_labels) # Real/Fake loss for the fake image\n",
        "    errD = errD_real + errD_fake\n",
        "    errD.backward()\n",
        "    optD.step()\n",
        "    \n",
        "    # train G\n",
        "    netG.zero_grad()\n",
        "    netD.zero_grad()\n",
        "    fake_logits = netD(fake_ims)\n",
        "    real_labels = torch.ones_like(fake_logits)\n",
        "    errG = criterion_one(fake_logits, real_labels)\n",
        "    errG.backward()\n",
        "    optG.step()\n",
        "    \n",
        "    if count % 1000 == 0:\n",
        "        ep += 1\n",
        "        end_t = time.time()\n",
        "        print('[%d/%d]Loss_D: %.2f Loss_G: %.2f Time: %.2fs'\n",
        "              % (ep, int(max_count/1000),\n",
        "                 errD.item(), errG.item(),\n",
        "                 end_t - start_t))\n",
        "        imshow(fake_ims)\n",
        "        start_t = time.time()"
      ],
      "execution_count": null,
      "outputs": [
        {
          "output_type": "stream",
          "text": [
            "[1/20]Loss_D: 0.97 Loss_G: 0.72 Time: 35.98s\n",
            "[2/20]Loss_D: 0.66 Loss_G: 1.13 Time: 35.96s\n",
            "[3/20]Loss_D: 0.74 Loss_G: 0.96 Time: 35.87s\n",
            "[4/20]Loss_D: 0.65 Loss_G: 0.94 Time: 37.47s\n",
            "[5/20]Loss_D: 0.64 Loss_G: 1.15 Time: 37.72s\n",
            "[6/20]Loss_D: 0.52 Loss_G: 0.99 Time: 39.36s\n",
            "[7/20]Loss_D: 0.68 Loss_G: 0.98 Time: 37.55s\n",
            "[8/20]Loss_D: 0.55 Loss_G: 1.96 Time: 36.99s\n",
            "[9/20]Loss_D: 0.61 Loss_G: 1.16 Time: 36.99s\n",
            "[10/20]Loss_D: 0.59 Loss_G: 1.24 Time: 40.11s\n",
            "[11/20]Loss_D: 0.43 Loss_G: 1.90 Time: 40.99s\n",
            "[12/20]Loss_D: 0.58 Loss_G: 1.24 Time: 36.63s\n",
            "[13/20]Loss_D: 0.56 Loss_G: 0.91 Time: 37.27s\n",
            "[14/20]Loss_D: 0.62 Loss_G: 1.18 Time: 38.30s\n",
            "[15/20]Loss_D: 0.59 Loss_G: 1.30 Time: 40.34s\n",
            "[16/20]Loss_D: 0.67 Loss_G: 0.86 Time: 36.45s\n",
            "[17/20]Loss_D: 0.69 Loss_G: 0.87 Time: 36.38s\n",
            "[18/20]Loss_D: 0.71 Loss_G: 0.93 Time: 36.37s\n",
            "[19/20]Loss_D: 0.54 Loss_G: 1.22 Time: 36.30s\n",
            "[20/20]Loss_D: 0.54 Loss_G: 1.25 Time: 36.32s\n"
          ],
          "name": "stdout"
        },
        {
          "output_type": "display_data",
          "data": {
            "image/png": "[encoded data removed]",
            "text/plain": [
              "<Figure size 432x288 with 1 Axes>"
            ]
          },
          "metadata": {
            "tags": [],
            "needs_background": "light"
          }
        }
      ]
    },
    {
      "cell_type": "code",
      "metadata": {
        "scrolled": true,
        "id": "teRL9B0wsETk",
        "colab_type": "code",
        "colab": {},
        "outputId": "0df4b6a6-ca75-4abd-db88-e3ff7a565165"
      },
      "source": [
        "netG.eval()\n",
        "_noise = Variable(torch.FloatTensor(16, nz))\n",
        "_noise.data.normal_(0, 1)\n",
        "imshow(netG(_noise))"
      ],
      "execution_count": null,
      "outputs": [
        {
          "output_type": "display_data",
          "data": {
            "image/png": "[encoded data removed]",
            "text/plain": [
              "<Figure size 432x288 with 1 Axes>"
            ]
          },
          "metadata": {
            "tags": [],
            "needs_background": "light"
          }
        }
      ]
    },
    {
      "cell_type": "code",
      "metadata": {
        "id": "dkItoVL_sETm",
        "colab_type": "code",
        "colab": {}
      },
      "source": [
        ""
      ],
      "execution_count": null,
      "outputs": []
    }
  ]
}