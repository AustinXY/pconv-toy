{
  "nbformat": 4,
  "nbformat_minor": 0,
  "metadata": {
    "kernelspec": {
      "display_name": "Python 3",
      "language": "python",
      "name": "python3"
    },
    "language_info": {
      "codemirror_mode": {
        "name": "ipython",
        "version": 3
      },
      "file_extension": ".py",
      "mimetype": "text/x-python",
      "name": "python",
      "nbconvert_exporter": "python",
      "pygments_lexer": "ipython3",
      "version": "3.6.10"
    },
    "colab": {
      "name": "pconv-toy.ipynb",
      "provenance": []
    }
  },
  "cells": [
    {
      "cell_type": "code",
      "metadata": {
        "scrolled": true,
        "id": "MsJ-8UM_sETP",
        "colab_type": "code",
        "colab": {}
      },
      "source": [
        "import torch\n",
        "import numpy as np\n",
        "import torch.nn as nn\n",
        "import torch.nn.functional as F\n",
        "import torchvision.transforms as transforms\n",
        "from PIL import Image\n",
        "import matplotlib.pyplot as plt\n",
        "import torch.optim as optim\n",
        "import time\n",
        "from torch.autograd import Variable\n",
        "import torchvision"
      ],
      "execution_count": 1,
      "outputs": []
    },
    {
      "cell_type": "code",
      "metadata": {
        "id": "Q1xuc2i_0v9A",
        "colab_type": "code",
        "colab": {}
      },
      "source": [
        "class PartialConv2d(nn.Conv2d):\n",
        "    def __init__(self, *args, **kwargs):\n",
        "        super(PartialConv2d, self).__init__(*args, **kwargs)\n",
        "\n",
        "        self.multi_channel = False\n",
        "        self.return_mask = True\n",
        "        if self.multi_channel:\n",
        "            self.weight_maskUpdater = torch.ones(self.out_channels, self.in_channels, self.kernel_size[0], self.kernel_size[1])\n",
        "        else:\n",
        "            self.weight_maskUpdater = torch.ones(1, 1, self.kernel_size[0], self.kernel_size[1])\n",
        "            \n",
        "        self.slide_winsize = self.weight_maskUpdater.shape[1] * self.weight_maskUpdater.shape[2] * self.weight_maskUpdater.shape[3]\n",
        "\n",
        "        self.last_size = (None, None, None, None)\n",
        "        self.update_mask = None\n",
        "        self.mask_ratio = None\n",
        "\n",
        "    def forward(self, input, mask_in=None):\n",
        "        assert len(input.shape) == 4\n",
        "        if mask_in is not None or self.last_size != tuple(input.shape):\n",
        "            self.last_size = tuple(input.shape)\n",
        "\n",
        "            with torch.no_grad():\n",
        "                if self.weight_maskUpdater.type() != input.type():\n",
        "                    self.weight_maskUpdater = self.weight_maskUpdater.to(input)\n",
        "\n",
        "                if mask_in is None:\n",
        "                    # if mask is not provided, create a mask\n",
        "                    if self.multi_channel:\n",
        "                        mask = torch.ones(input.data.shape[0], input.data.shape[1], input.data.shape[2], input.data.shape[3]).to(input)\n",
        "                    else:\n",
        "                        mask = torch.ones(1, 1, input.data.shape[2], input.data.shape[3]).to(input)\n",
        "                else:\n",
        "                    mask = mask_in\n",
        "                        \n",
        "                self.update_mask = F.conv2d(mask, self.weight_maskUpdater, bias=None, stride=self.stride, padding=self.padding, dilation=self.dilation, groups=1)\n",
        "\n",
        "                # for mixed precision training, change 1e-8 to 1e-6\n",
        "                self.mask_ratio = self.slide_winsize/(self.update_mask + 1e-8)\n",
        "                # self.mask_ratio = torch.max(self.update_mask)/(self.update_mask + 1e-8)\n",
        "                self.update_mask = torch.clamp(self.update_mask, 0, 1)\n",
        "                self.mask_ratio = torch.mul(self.mask_ratio, self.update_mask)\n",
        "\n",
        "\n",
        "        raw_out = super(PartialConv2d, self).forward(torch.mul(input, mask) if mask_in is not None else input)\n",
        "\n",
        "        if self.bias is not None:\n",
        "            bias_view = self.bias.view(1, self.out_channels, 1, 1)\n",
        "            output = torch.mul(raw_out - bias_view, self.mask_ratio) + bias_view\n",
        "            output = torch.mul(output, self.update_mask)\n",
        "        else:\n",
        "            output = torch.mul(raw_out, self.mask_ratio)\n",
        "\n",
        "        if self.return_mask:\n",
        "            return output, self.update_mask\n",
        "        else:\n",
        "            return output"
      ],
      "execution_count": 36,
      "outputs": []
    },
    {
      "cell_type": "code",
      "metadata": {
        "id": "2SIKZDPksETS",
        "colab_type": "code",
        "colab": {}
      },
      "source": [
        "class G(nn.Module):\n",
        "    def __init__(self):\n",
        "        super().__init__()\n",
        "        self.ngf = 64\n",
        "        self.define_module()\n",
        "\n",
        "    def define_module(self):\n",
        "        ngf = self.ngf\n",
        "        in_dim = 64\n",
        "        self.fc = nn.Sequential(\n",
        "            nn.Linear(in_dim, ngf * 4 * 4, bias=False),\n",
        "            nn.BatchNorm1d(ngf * 4 * 4),\n",
        "            nn.LeakyReLU(0.2, inplace=True))\n",
        "\n",
        "        self.upsample1 = upBlock(ngf, ngf // 2)\n",
        "        self.upsample2 = upBlock(ngf // 2, ngf // 4)\n",
        "        self.to_rgb = TO_RGB_LAYER(ngf // 4)\n",
        "\n",
        "    def forward(self, z_code):\n",
        "        out_code = self.fc(z_code)\n",
        "        out_code = out_code.view(-1, self.ngf, 4, 4)  # 64 * 4 * 4\n",
        "        out_code = self.upsample1(out_code)              # 32 * 8 * 8\n",
        "        out_code = self.upsample2(out_code)              # 16 * 16 * 16\n",
        "        img = self.to_rgb(out_code)\n",
        "        return img\n",
        "    \n",
        "\n",
        "class D(nn.Module):\n",
        "    def __init__(self):\n",
        "        super().__init__()\n",
        "        self.define_module()\n",
        "\n",
        "    def define_module(self):\n",
        "        ndf = 16\n",
        "        self.from_rgb = fromRGB_layer(ndf)\n",
        "        self.downblock1 = downBlock_p(ndf, ndf * 2, 3, 1, 1)\n",
        "        self.downblock2 = downBlock_p(ndf * 2, ndf * 4, 3, 1, 1)\n",
        "#         self.downblock3 = downBlock_p(ndf * 2, ndf * 2, 3, 1, 1)\n",
        "        self.uncond_logits = PartialConv2d(ndf * 4, 1, kernel_size=4, stride=4)\n",
        "    def forward(self, x_var, mask=None):\n",
        "        \"\"\"\n",
        "        - x_var (tensor): 3x16x16\n",
        "        - mask (tensor): 1x16x16\n",
        "        \"\"\"\n",
        "        x_code = self.from_rgb(x_var)                 # 16 * 16 * 16\n",
        "        x_code, mask = self.downblock1(x_code, mask)  # 32 * 8 * 8\n",
        "        x_code, mask = self.downblock2(x_code, mask)  # 64 * 4 * 4\n",
        "\n",
        "        rf_score, _ = self.uncond_logits(x_code, mask)\n",
        "        rf_score = F.sigmoid(rf_score)\n",
        "        return rf_score.view(-1)"
      ],
      "execution_count": 23,
      "outputs": []
    },
    {
      "cell_type": "code",
      "metadata": {
        "id": "eoRt86b_sETU",
        "colab_type": "code",
        "colab": {}
      },
      "source": [
        "def weights_init(m):\n",
        "    classname = m.__class__.__name__\n",
        "    if isinstance(m, nn.Conv2d):\n",
        "        nn.init.orthogonal(m.weight.data, 1.0)\n",
        "    elif isinstance(m, nn.BatchNorm2d):\n",
        "        m.weight.data.normal_(1.0, 0.02)\n",
        "        m.bias.data.fill_(0)\n",
        "    elif isinstance(m, nn.Linear):\n",
        "        nn.init.orthogonal(m.weight.data, 1.0)\n",
        "        if m.bias is not None:\n",
        "            m.bias.data.fill_(0.0)\n",
        "    elif classname == 'PartialConv':\n",
        "        nn.init.constant_(m.mask_conv.weight.data, 1.0)\n",
        "\n",
        "        \n",
        "def upBlock(in_planes, out_planes):\n",
        "    block = nn.Sequential(\n",
        "        nn.Upsample(scale_factor=2, mode='nearest'),\n",
        "        nn.Conv2d(in_planes, out_planes, kernel_size=3, stride=1, padding=1, bias=False),\n",
        "        nn.BatchNorm2d(out_planes),\n",
        "        nn.LeakyReLU(0.2, inplace=True))\n",
        "    return block\n",
        "\n",
        "\n",
        "class TO_RGB_LAYER(nn.Module):\n",
        "    def __init__(self, ngf):\n",
        "        super().__init__()\n",
        "        self.gf_dim = ngf\n",
        "        self.img = nn.Sequential(\n",
        "            nn.Conv2d(ngf, 3, kernel_size=3, stride=1, padding=1, bias=False),\n",
        "            nn.Tanh()\n",
        "        )\n",
        "\n",
        "    def forward(self, h_code):\n",
        "        out_img = self.img(h_code)\n",
        "        return out_img\n",
        "\n",
        "    \n",
        "class PartialConv(nn.Module):\n",
        "    def __init__(self, in_channels, out_channels, kernel_size=3, stride=1, padding=1, \n",
        "                 dilation=1, groups=1,bias=False):\n",
        "        super().__init__()\n",
        "        self.input_conv = nn.Conv2d(\n",
        "            in_channels, out_channels, kernel_size, stride, padding, dilation, groups, bias)\n",
        "        self.mask_conv = nn.Conv2d(\n",
        "            1, 1, kernel_size, stride, padding, dilation, groups, False)\n",
        "\n",
        "        # mask is not updated\n",
        "        for param in self.mask_conv.parameters():\n",
        "            param.requires_grad = False\n",
        "\n",
        "        self.bias = self.input_conv.bias\n",
        "        self.all = kernel_size * kernel_size\n",
        "    def forward(self, input, mask):\n",
        "        \"\"\"\n",
        "        input is regular tensor with shape N*C*H*W\n",
        "        mask has to have 1 channel N*1*H*W\n",
        "\n",
        "        mask: 0's for foreground\n",
        "        \"\"\"\n",
        "        if mask is None:\n",
        "            return self.input_conv(input), mask\n",
        "        \n",
        "        output = self.input_conv(input * mask)\n",
        "        # get bias which will be used later\n",
        "        if self.input_conv.bias is not None:\n",
        "            output_bias = self.input_conv.bias.view(1, -1, 1, 1).expand_as(output)\n",
        "        else:\n",
        "            output_bias = torch.zeros_like(output)\n",
        "\n",
        "        with torch.no_grad():\n",
        "            _frac = self.mask_conv(torch.ones_like(mask))\n",
        "            mask = self.mask_conv(mask)\n",
        "\n",
        "        no_update_holes = mask == 0\n",
        "        mask_ratio = _frac / mask.masked_fill_(no_update_holes, 1.0)\n",
        "        output_pre = (output - output_bias) * mask_ratio + output_bias\n",
        "        output = output_pre.masked_fill_(no_update_holes, 0.0)\n",
        "        new_mask = 1 - no_update_holes.float()\n",
        "        return output, mask\n",
        "\n",
        "\n",
        "class downBlock_p(nn.Module):\n",
        "    def __init__(self, in_channels, out_channels, kernel_size=3, stride=1, padding=0, \n",
        "                 dilation=1, groups=1, bias=False):\n",
        "        super().__init__()\n",
        "        self.conv = PartialConv2d(in_channels, out_channels,\n",
        "            kernel_size, stride, padding, dilation, groups, bias)\n",
        "        # self.bn = nn.BatchNorm2d(out_channels)\n",
        "\n",
        "    def forward(self, input, mask=None):\n",
        "        \"\"\"\n",
        "        input is regular tensor with shape N*C*H*W\n",
        "        mask has to have 1 channel N*1*H*W\n",
        "        \"\"\"\n",
        "        output, mask = self.conv(input, mask)\n",
        "        # output = self.bn(output)\n",
        "        output = F.leaky_relu(output, 0.2, inplace=True)\n",
        "        output = F.avg_pool2d(output, 2)\n",
        "        if mask is not None:\n",
        "            mask = F.avg_pool2d(mask, 2)\n",
        "            no_update_holes = mask == 0\n",
        "            mask = 1 - no_update_holes.float()\n",
        "        return output, mask\n",
        "    \n",
        "    \n",
        "def fromRGB_layer(out_planes):\n",
        "    layer = nn.Sequential(\n",
        "        nn.Conv2d(3, out_planes, 1, 1, 0, bias=False),\n",
        "        nn.LeakyReLU(0.2, inplace=True)\n",
        "    )\n",
        "    return layer"
      ],
      "execution_count": 58,
      "outputs": []
    },
    {
      "cell_type": "code",
      "metadata": {
        "id": "3q-mPsvJsETX",
        "colab_type": "code",
        "colab": {}
      },
      "source": [
        "norm = transforms.Compose([\n",
        "    transforms.ToTensor(),\n",
        "    transforms.Normalize((0.5, 0.5, 0.5), (0.5, 0.5, 0.5))])\n",
        "\n",
        "def get_mask(imshape, bbox):\n",
        "    \"\"\"\n",
        "    mask: 0's for foreground\n",
        "    \"\"\"\n",
        "    c, r = imshape\n",
        "    x1, y1, w, h = bbox\n",
        "    x2 = x1 + w\n",
        "    y2 = y1 + h\n",
        "    mk = np.ones((r, c))\n",
        "    mk[y1: y2 + 1, x1: x2 + 1] = 0\n",
        "    return Image.fromarray(mk)\n",
        "\n",
        "def train_img_gen():\n",
        "    imsize = 16\n",
        "    img = 255 * np.concatenate((np.ones((imsize,imsize,1)), np.zeros((imsize,imsize,2))), axis=2).astype(np.uint8)\n",
        "    bbox = np.random.randint(0, imsize, 4)\n",
        "    x1 = np.min(bbox[0: 2])\n",
        "    x2 = np.max(bbox[0: 2])\n",
        "    y1 = np.min(bbox[2: 4])\n",
        "    y2 = np.max(bbox[2: 4])\n",
        "    img[y1: y2 + 1, x1: x2 + 1, 0] = 0\n",
        "    img[y1: y2 + 1, x1: x2 + 1, 1] = 255\n",
        "#     print(x1,y1,x2,y2)\n",
        "    img = Image.fromarray(img)\n",
        "    mk = torch.ones((1, imsize, imsize))\n",
        "    mk[0, y1: y2 + 1, x1: x2 + 1] = 0\n",
        "#     plt.hold()\n",
        "#     plt.imshow(img)\n",
        "#     plt.imshow(mk)\n",
        "    return norm(img), mk"
      ],
      "execution_count": 6,
      "outputs": []
    },
    {
      "cell_type": "code",
      "metadata": {
        "id": "a3zWgIlTsETZ",
        "colab_type": "code",
        "colab": {}
      },
      "source": [
        "def imshow(im):\n",
        "    _im = torchvision.utils.make_grid(im, pad_value=-1).detach().numpy()\n",
        "    _im = np.transpose(_im, (1, 2, 0))\n",
        "    _im = (_im + 1) * 255 / 2\n",
        "    _im = _im.astype(np.uint8)\n",
        "    plt.imshow(_im)"
      ],
      "execution_count": 7,
      "outputs": []
    },
    {
      "cell_type": "code",
      "metadata": {
        "id": "HlQoCFa3sc6P",
        "colab_type": "code",
        "colab": {
          "base_uri": "https://localhost:8080/",
          "height": 265
        },
        "outputId": "b879d992-3fc9-4866-b8ce-010b2300d234"
      },
      "source": [
        "im, _ = train_img_gen()\n",
        "imshow(im)"
      ],
      "execution_count": 8,
      "outputs": [
        {
          "output_type": "display_data",
          "data": {
            "image/png": "[encoded data removed]",
            "text/plain": [
              "<Figure size 432x288 with 1 Axes>"
            ]
          },
          "metadata": {
            "tags": [],
            "needs_background": "light"
          }
        }
      ]
    },
    {
      "cell_type": "code",
      "metadata": {
        "id": "eFQvlezlsETb",
        "colab_type": "code",
        "colab": {}
      },
      "source": [
        "def prepare_data(batch_size):\n",
        "    imsize = 16\n",
        "    im_li = []\n",
        "    mk_li = []\n",
        "    for i in range(batch_size):\n",
        "        im, mk = train_img_gen()\n",
        "        im = im.view(1, 3, imsize, imsize)\n",
        "        mk = mk.view(1, 1, imsize, imsize)\n",
        "        im_li.append(im)\n",
        "        mk_li.append(mk)\n",
        "    ims = torch.cat(im_li, dim=0)    \n",
        "    mks = torch.cat(mk_li, dim=0) \n",
        "    return ims, mks"
      ],
      "execution_count": 9,
      "outputs": []
    },
    {
      "cell_type": "code",
      "metadata": {
        "id": "MTig0vYXsETd",
        "colab_type": "code",
        "colab": {}
      },
      "source": [
        "max_count = 10001\n",
        "batch_size = 16\n",
        "nz = 64"
      ],
      "execution_count": 25,
      "outputs": []
    },
    {
      "cell_type": "code",
      "metadata": {
        "id": "0YDljOKjsETf",
        "colab_type": "code",
        "colab": {
          "base_uri": "https://localhost:8080/",
          "height": 106
        },
        "outputId": "b8d45760-0c8b-478d-b56a-26e7420f3e69"
      },
      "source": [
        "netG = G()\n",
        "netD = D()\n",
        "netG.apply(weights_init)\n",
        "netD.apply(weights_init)\n",
        "optD = optim.Adam(netD.parameters(),\n",
        "                  lr=2e-4,\n",
        "                  betas=(0.5, 0.999))\n",
        "optG = optim.Adam(netG.parameters(),\n",
        "                  lr=2e-4,\n",
        "                  betas=(0.5, 0.999))\n",
        "criterion_one = nn.BCELoss()"
      ],
      "execution_count": 24,
      "outputs": [
        {
          "output_type": "stream",
          "text": [
            "/usr/local/lib/python3.6/dist-packages/ipykernel_launcher.py:9: UserWarning: nn.init.orthogonal is now deprecated in favor of nn.init.orthogonal_.\n",
            "  if __name__ == '__main__':\n",
            "/usr/local/lib/python3.6/dist-packages/ipykernel_launcher.py:4: UserWarning: nn.init.orthogonal is now deprecated in favor of nn.init.orthogonal_.\n",
            "  after removing the cwd from sys.path.\n"
          ],
          "name": "stderr"
        }
      ]
    },
    {
      "cell_type": "code",
      "metadata": {
        "scrolled": true,
        "id": "RmzMxmdYsETi",
        "colab_type": "code",
        "colab": {
          "base_uri": "https://localhost:8080/",
          "height": 365
        },
        "outputId": "d99c716d-13f8-4600-e326-3b37a0392eee"
      },
      "source": [
        "ep = 0\n",
        "netG.train()\n",
        "\n",
        "start_t = time.time()\n",
        "for count in range(1, max_count):\n",
        "    ims, mks = prepare_data(batch_size)\n",
        "\n",
        "    noise = Variable(torch.FloatTensor(batch_size, nz))\n",
        "    noise.data.normal_(0, 1)\n",
        "    fake_ims = netG(noise)\n",
        "    \n",
        "    # train D    \n",
        "    netD.zero_grad()\n",
        "    real_logits = netD(ims, mks)\n",
        "    fake_logits = netD(fake_ims.detach())\n",
        "    fake_labels = torch.zeros_like(fake_logits)\n",
        "    real_labels = torch.ones_like(real_logits)\n",
        "    errD_real = criterion_one(real_logits, real_labels) # Real/Fake loss for the real image\n",
        "    errD_fake = criterion_one(fake_logits, fake_labels) # Real/Fake loss for the fake image\n",
        "    errD = errD_real + errD_fake\n",
        "    errD.backward()\n",
        "    optD.step()\n",
        "    \n",
        "    # train G\n",
        "    netG.zero_grad()\n",
        "    netD.zero_grad()\n",
        "    fake_logits = netD(fake_ims)\n",
        "    real_labels = torch.ones_like(fake_logits)\n",
        "    errG = criterion_one(fake_logits, real_labels)\n",
        "    errG.backward()\n",
        "    optG.step()\n",
        "    \n",
        "    if count % 1000 == 0:\n",
        "        ep += 1\n",
        "        end_t = time.time()\n",
        "        print('[%d/%d]Loss_D: %.2f Loss_G: %.2f Time: %.2fs'\n",
        "              % (ep, int(max_count/1000),\n",
        "                 errD.item(), errG.item(),\n",
        "                 end_t - start_t))\n",
        "        imshow(fake_ims)\n",
        "        start_t = time.time()"
      ],
      "execution_count": 17,
      "outputs": [
        {
          "output_type": "stream",
          "text": [
            "/usr/local/lib/python3.6/dist-packages/torch/nn/functional.py:1625: UserWarning: nn.functional.sigmoid is deprecated. Use torch.sigmoid instead.\n",
            "  warnings.warn(\"nn.functional.sigmoid is deprecated. Use torch.sigmoid instead.\")\n"
          ],
          "name": "stderr"
        },
        {
          "output_type": "stream",
          "text": [
            "[1/10]Loss_D: 0.15 Loss_G: 3.10 Time: 57.20s\n",
            "[2/10]Loss_D: 0.15 Loss_G: 2.87 Time: 57.72s\n",
            "[3/10]Loss_D: 0.09 Loss_G: 7.68 Time: 57.43s\n",
            "[4/10]Loss_D: 0.12 Loss_G: 4.59 Time: 57.96s\n",
            "[5/10]Loss_D: 0.44 Loss_G: 8.67 Time: 57.63s\n",
            "[6/10]Loss_D: 0.05 Loss_G: 10.08 Time: 57.77s\n",
            "[7/10]Loss_D: 0.01 Loss_G: 10.15 Time: 57.65s\n",
            "[8/10]Loss_D: 0.03 Loss_G: 4.71 Time: 57.61s\n",
            "[9/10]Loss_D: 0.22 Loss_G: 3.69 Time: 57.83s\n",
            "[10/10]Loss_D: 0.03 Loss_G: 15.07 Time: 57.83s\n"
          ],
          "name": "stdout"
        },
        {
          "output_type": "display_data",
          "data": {
            "image/png": "[encoded data removed]",
            "text/plain": [
              "<Figure size 432x288 with 1 Axes>"
            ]
          },
          "metadata": {
            "tags": [],
            "needs_background": "light"
          }
        }
      ]
    },
    {
      "cell_type": "code",
      "metadata": {
        "scrolled": true,
        "id": "teRL9B0wsETk",
        "colab_type": "code",
        "colab": {
          "base_uri": "https://localhost:8080/",
          "height": 279
        },
        "outputId": "eea51802-8104-42ca-c34e-5202fd0fefed"
      },
      "source": [
        "netG.eval()\n",
        "_noise = Variable(torch.FloatTensor(16, nz))\n",
        "_noise.data.normal_(0, 1)\n",
        "imshow(netG(_noise))\n",
        "netD(netG(_noise))"
      ],
      "execution_count": 26,
      "outputs": [
        {
          "output_type": "stream",
          "text": [
            "bias is None??\n",
            "bias is None??\n"
          ],
          "name": "stdout"
        },
        {
          "output_type": "stream",
          "text": [
            "/usr/local/lib/python3.6/dist-packages/torch/nn/functional.py:1625: UserWarning: nn.functional.sigmoid is deprecated. Use torch.sigmoid instead.\n",
            "  warnings.warn(\"nn.functional.sigmoid is deprecated. Use torch.sigmoid instead.\")\n"
          ],
          "name": "stderr"
        },
        {
          "output_type": "execute_result",
          "data": {
            "text/plain": [
              "tensor([0.5012, 0.5013, 0.5014, 0.5040, 0.5026, 0.5032, 0.5022, 0.4998, 0.5024,\n",
              "        0.5021, 0.5034, 0.5026, 0.5041, 0.5033, 0.5029, 0.5022],\n",
              "       grad_fn=<ViewBackward>)"
            ]
          },
          "metadata": {
            "tags": []
          },
          "execution_count": 26
        },
        {
          "output_type": "display_data",
          "data": {
            "image/png": "[encoded data removed]",
            "text/plain": [
              "<Figure size 432x288 with 1 Axes>"
            ]
          },
          "metadata": {
            "tags": [],
            "needs_background": "light"
          }
        }
      ]
    },
    {
      "cell_type": "code",
      "metadata": {
        "id": "dkItoVL_sETm",
        "colab_type": "code",
        "colab": {
          "base_uri": "https://localhost:8080/",
          "height": 141
        },
        "outputId": "23ef080d-9a2c-4c58-f4eb-bdf6f9f4bbe7"
      },
      "source": [
        "conv2d = PartialConv2d(3, 1, 3, 2, 0, bias=False)\n",
        "conv = PartialConv(3, 1, 3, 2, 0, bias=False)\n",
        "conv.input_conv.weight = conv2d.weight\n",
        "nn.init.constant(conv.mask_conv.weight, 1)"
      ],
      "execution_count": 76,
      "outputs": [
        {
          "output_type": "stream",
          "text": [
            "/usr/local/lib/python3.6/dist-packages/ipykernel_launcher.py:4: UserWarning: nn.init.constant is now deprecated in favor of nn.init.constant_.\n",
            "  after removing the cwd from sys.path.\n"
          ],
          "name": "stderr"
        },
        {
          "output_type": "execute_result",
          "data": {
            "text/plain": [
              "Parameter containing:\n",
              "tensor([[[[1., 1., 1.],\n",
              "          [1., 1., 1.],\n",
              "          [1., 1., 1.]]]])"
            ]
          },
          "metadata": {
            "tags": []
          },
          "execution_count": 76
        }
      ]
    },
    {
      "cell_type": "code",
      "metadata": {
        "id": "Oe_r8wyc9Tlk",
        "colab_type": "code",
        "colab": {
          "base_uri": "https://localhost:8080/",
          "height": 259
        },
        "outputId": "9c00995c-aa91-4eb7-d2f4-836f57ff4723"
      },
      "source": [
        "im, mk = prepare_data(1)\n",
        "o1, _ = conv2d(im, mk)\n",
        "o2, _ = conv(im, mk)\n",
        "print(o1-o2)"
      ],
      "execution_count": 77,
      "outputs": [
        {
          "output_type": "stream",
          "text": [
            "tensor([[[[0.0000e+00, 0.0000e+00, 0.0000e+00, 0.0000e+00, 0.0000e+00,\n",
            "           0.0000e+00, 0.0000e+00],\n",
            "          [0.0000e+00, 0.0000e+00, 0.0000e+00, 0.0000e+00, 0.0000e+00,\n",
            "           0.0000e+00, 0.0000e+00],\n",
            "          [0.0000e+00, 0.0000e+00, 0.0000e+00, 0.0000e+00, 0.0000e+00,\n",
            "           0.0000e+00, 0.0000e+00],\n",
            "          [0.0000e+00, 0.0000e+00, 0.0000e+00, 0.0000e+00, 0.0000e+00,\n",
            "           0.0000e+00, 0.0000e+00],\n",
            "          [0.0000e+00, 0.0000e+00, 0.0000e+00, 0.0000e+00, 0.0000e+00,\n",
            "           0.0000e+00, 0.0000e+00],\n",
            "          [0.0000e+00, 0.0000e+00, 0.0000e+00, 0.0000e+00, 0.0000e+00,\n",
            "           0.0000e+00, 7.4506e-09],\n",
            "          [0.0000e+00, 0.0000e+00, 0.0000e+00, 0.0000e+00, 0.0000e+00,\n",
            "           0.0000e+00, 0.0000e+00]]]], grad_fn=<SubBackward0>)\n"
          ],
          "name": "stdout"
        }
      ]
    },
    {
      "cell_type": "code",
      "metadata": {
        "id": "q8YVNFVK9Whu",
        "colab_type": "code",
        "colab": {}
      },
      "source": [
        ""
      ],
      "execution_count": 67,
      "outputs": []
    }
  ]
}