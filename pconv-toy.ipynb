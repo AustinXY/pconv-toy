{
  "nbformat": 4,
  "nbformat_minor": 0,
  "metadata": {
    "kernelspec": {
      "display_name": "Python 3",
      "language": "python",
      "name": "python3"
    },
    "language_info": {
      "codemirror_mode": {
        "name": "ipython",
        "version": 3
      },
      "file_extension": ".py",
      "mimetype": "text/x-python",
      "name": "python",
      "nbconvert_exporter": "python",
      "pygments_lexer": "ipython3",
      "version": "3.6.10"
    },
    "colab": {
      "name": "pconv-toy.ipynb",
      "provenance": []
    },
    "accelerator": "GPU"
  },
  "cells": [
    {
      "cell_type": "code",
      "metadata": {
        "id": "vUlgHv-n5fgt",
        "colab_type": "code",
        "colab": {
          "base_uri": "https://localhost:8080/",
          "height": 363
        },
        "outputId": "cfe260bb-8e2e-44bb-e715-2955fa5f8c6b"
      },
      "source": [
        "!nvidia-smi"
      ],
      "execution_count": 1,
      "outputs": [
        {
          "output_type": "stream",
          "text": [
            "Tue Sep  8 10:04:47 2020       \n",
            "+-----------------------------------------------------------------------------+\n",
            "| NVIDIA-SMI 450.66       Driver Version: 418.67       CUDA Version: 10.1     |\n",
            "|-------------------------------+----------------------+----------------------+\n",
            "| GPU  Name        Persistence-M| Bus-Id        Disp.A | Volatile Uncorr. ECC |\n",
            "| Fan  Temp  Perf  Pwr:Usage/Cap|         Memory-Usage | GPU-Util  Compute M. |\n",
            "|                               |                      |               MIG M. |\n",
            "|===============================+======================+======================|\n",
            "|   0  Tesla P100-PCIE...  Off  | 00000000:00:04.0 Off |                    0 |\n",
            "| N/A   33C    P0    27W / 250W |      0MiB / 16280MiB |      0%      Default |\n",
            "|                               |                      |                 ERR! |\n",
            "+-------------------------------+----------------------+----------------------+\n",
            "                                                                               \n",
            "+-----------------------------------------------------------------------------+\n",
            "| Processes:                                                                  |\n",
            "|  GPU   GI   CI        PID   Type   Process name                  GPU Memory |\n",
            "|        ID   ID                                                   Usage      |\n",
            "|=============================================================================|\n",
            "|  No running processes found                                                 |\n",
            "+-----------------------------------------------------------------------------+\n"
          ],
          "name": "stdout"
        }
      ]
    },
    {
      "cell_type": "code",
      "metadata": {
        "scrolled": true,
        "id": "MsJ-8UM_sETP",
        "colab_type": "code",
        "colab": {}
      },
      "source": [
        "import torch\n",
        "import numpy as np\n",
        "import torch.nn as nn\n",
        "import torch.nn.functional as F\n",
        "import torchvision.transforms as transforms\n",
        "from PIL import Image\n",
        "import matplotlib.pyplot as plt\n",
        "import torch.optim as optim\n",
        "import time\n",
        "from torch.autograd import Variable\n",
        "import torchvision"
      ],
      "execution_count": 2,
      "outputs": []
    },
    {
      "cell_type": "code",
      "metadata": {
        "id": "5p-O0TfOA242",
        "colab_type": "code",
        "colab": {}
      },
      "source": [
        "# torch.cuda.set_device(0)"
      ],
      "execution_count": 3,
      "outputs": []
    },
    {
      "cell_type": "code",
      "metadata": {
        "id": "2SIKZDPksETS",
        "colab_type": "code",
        "colab": {}
      },
      "source": [
        "class G(nn.Module):\n",
        "    def __init__(self, ngf=64, nz=64):\n",
        "        super().__init__()\n",
        "        self.ngf = ngf\n",
        "        self.nz = nz\n",
        "        self.define_module()\n",
        "\n",
        "    def define_module(self):\n",
        "        ngf = self.ngf\n",
        "        in_dim = self.nz\n",
        "        self.fc = nn.Sequential(\n",
        "            nn.Linear(in_dim, ngf * 4 * 4, bias=False),\n",
        "            nn.BatchNorm1d(ngf * 4 * 4),\n",
        "            nn.LeakyReLU(0.2, inplace=True))\n",
        "\n",
        "        self.upsample1 = upBlock(ngf, ngf // 2)\n",
        "        self.upsample2 = upBlock(ngf // 2, ngf // 4)\n",
        "        self.to_rgb = TO_RGB_LAYER(ngf // 4)\n",
        "\n",
        "    def forward(self, z_code):\n",
        "        out_code = self.fc(z_code)\n",
        "        out_code = out_code.view(-1, self.ngf, 4, 4)     # 64 * 4 * 4\n",
        "        out_code = self.upsample1(out_code)              # 32 * 8 * 8\n",
        "        out_code = self.upsample2(out_code)              # 16 * 16 * 16\n",
        "        img = self.to_rgb(out_code)\n",
        "        return img\n",
        "    \n",
        "\n",
        "class D(nn.Module):\n",
        "    def __init__(self, ndf=64):\n",
        "        super().__init__()\n",
        "        self.ndf = ndf\n",
        "        self.define_module()\n",
        "\n",
        "    def define_module(self):\n",
        "        ndf = self.ndf\n",
        "        self.from_rgb = fromRGB_layer(ndf // 4)\n",
        "        self.downblock1 = downBlock_p(ndf // 4, ndf // 2, 3, 1, 1)\n",
        "        self.downblock2 = downBlock_p(ndf // 2, ndf, 3, 1, 1)\n",
        "#         self.downblock3 = downBlock_p(ndf * 2, ndf * 2, 3, 1, 1)\n",
        "        self.uncond_logits = PartialConv2d(ndf, 1, kernel_size=4, stride=4)\n",
        "    def forward(self, x_var, mask=None):\n",
        "        \"\"\"\n",
        "        - x_var (tensor): 3x16x16\n",
        "        - mask (tensor): 1x16x16\n",
        "        \"\"\"\n",
        "        x_code = self.from_rgb(x_var)                 # 16 * 16 * 16\n",
        "        x_code, mask = self.downblock1(x_code, mask)  # 32 * 8 * 8\n",
        "        x_code, mask = self.downblock2(x_code, mask)  # 64 * 4 * 4\n",
        "\n",
        "        rf_score, _ = self.uncond_logits(x_code, mask)\n",
        "        rf_score = F.sigmoid(rf_score)\n",
        "        return rf_score.view(-1)"
      ],
      "execution_count": 4,
      "outputs": []
    },
    {
      "cell_type": "code",
      "metadata": {
        "id": "eoRt86b_sETU",
        "colab_type": "code",
        "colab": {}
      },
      "source": [
        "def weights_init(m):\n",
        "    classname = m.__class__.__name__\n",
        "    if isinstance(m, nn.Conv2d):\n",
        "        nn.init.orthogonal(m.weight.data, 1.0)\n",
        "    elif isinstance(m, nn.BatchNorm2d):\n",
        "        m.weight.data.normal_(1.0, 0.02)\n",
        "        m.bias.data.fill_(0)\n",
        "    elif isinstance(m, nn.Linear):\n",
        "        nn.init.orthogonal(m.weight.data, 1.0)\n",
        "        if m.bias is not None:\n",
        "            m.bias.data.fill_(0.0)\n",
        "    elif classname == 'PartialConv':\n",
        "        nn.init.constant_(m.mask_conv.weight.data, 1.0)\n",
        "\n",
        "        \n",
        "def upBlock(in_planes, out_planes):\n",
        "    block = nn.Sequential(\n",
        "        nn.Upsample(scale_factor=2, mode='nearest'),\n",
        "        nn.Conv2d(in_planes, out_planes, kernel_size=3, stride=1, padding=1, bias=False),\n",
        "        nn.BatchNorm2d(out_planes),\n",
        "        nn.LeakyReLU(0.2, inplace=True))\n",
        "    return block\n",
        "\n",
        "\n",
        "class TO_RGB_LAYER(nn.Module):\n",
        "    def __init__(self, ngf):\n",
        "        super().__init__()\n",
        "        self.gf_dim = ngf\n",
        "        self.img = nn.Sequential(\n",
        "            nn.Conv2d(ngf, 3, kernel_size=3, stride=1, padding=1, bias=False),\n",
        "            nn.Tanh()\n",
        "        )\n",
        "\n",
        "    def forward(self, h_code):\n",
        "        out_img = self.img(h_code)\n",
        "        return out_img\n",
        "\n",
        "    \n",
        "class PartialConv(nn.Module):\n",
        "    def __init__(self, in_channels, out_channels, kernel_size=3, stride=1, padding=1, \n",
        "                 dilation=1, groups=1,bias=False):\n",
        "        super().__init__()\n",
        "        self.input_conv = nn.Conv2d(\n",
        "            in_channels, out_channels, kernel_size, stride, padding, dilation, groups, bias)\n",
        "        self.mask_conv = nn.Conv2d(\n",
        "            1, 1, kernel_size, stride, padding, dilation, groups, False)\n",
        "\n",
        "        # mask is not updated\n",
        "        for param in self.mask_conv.parameters():\n",
        "            param.requires_grad = False\n",
        "\n",
        "        self.bias = self.input_conv.bias\n",
        "        self.all = kernel_size * kernel_size\n",
        "    def forward(self, input, mask=None):\n",
        "        \"\"\"\n",
        "        input is regular tensor with shape N*C*H*W\n",
        "        mask has to have 1 channel N*1*H*W\n",
        "\n",
        "        mask: 0's for foreground\n",
        "        \"\"\"\n",
        "        if mask is None:\n",
        "            return self.input_conv(input), mask\n",
        "        \n",
        "        output = self.input_conv(input * mask)\n",
        "        # get bias which will be used later\n",
        "        if self.input_conv.bias is not None:\n",
        "            output_bias = self.input_conv.bias.view(1, -1, 1, 1).expand_as(output)\n",
        "        else:\n",
        "            output_bias = torch.zeros_like(output)\n",
        "\n",
        "        with torch.no_grad():\n",
        "            _frac = self.mask_conv(torch.ones_like(mask))\n",
        "            mask = self.mask_conv(mask)\n",
        "\n",
        "        no_update_holes = mask == 0\n",
        "        mask_ratio = _frac / mask.masked_fill_(no_update_holes, 1.0)\n",
        "        # mask_ratio = 1\n",
        "        output_pre = (output - output_bias) * mask_ratio + output_bias\n",
        "        output = output_pre.masked_fill_(no_update_holes, 0.0)\n",
        "        new_mask = 1 - no_update_holes.float()\n",
        "        return output, mask\n",
        "\n",
        "\n",
        "class downBlock_p(nn.Module):\n",
        "    def __init__(self, in_channels, out_channels, kernel_size=3, stride=1, padding=0, \n",
        "                 dilation=1, groups=1, bias=False):\n",
        "        super().__init__()\n",
        "        self.conv = PartialConv2d(in_channels, out_channels,\n",
        "            kernel_size, stride, padding, dilation, groups, bias)\n",
        "        self.bn = nn.BatchNorm2d(out_channels)\n",
        "\n",
        "    def forward(self, input, mask=None):\n",
        "        \"\"\"\n",
        "        input is regular tensor with shape N*C*H*W\n",
        "        mask has to have 1 channel N*1*H*W\n",
        "        \"\"\"\n",
        "        output, mask = self.conv(input, mask)\n",
        "        output = self.bn(output)\n",
        "        output = F.leaky_relu(output, 0.2, inplace=True)\n",
        "        # output = F.tanh(output)\n",
        "        output = F.avg_pool2d(output, 2)\n",
        "        if mask is not None:\n",
        "            mask = F.avg_pool2d(mask, 2)\n",
        "            no_update_holes = mask == 0\n",
        "            mask = 1 - no_update_holes.float()\n",
        "        return output, mask\n",
        "    \n",
        "    \n",
        "def fromRGB_layer(out_planes):\n",
        "    layer = nn.Sequential(\n",
        "        nn.Conv2d(3, out_planes, 1, 1, 0, bias=False),\n",
        "        nn.LeakyReLU(0.2, inplace=True)\n",
        "    )\n",
        "    return layer"
      ],
      "execution_count": 49,
      "outputs": []
    },
    {
      "cell_type": "code",
      "metadata": {
        "id": "Q1xuc2i_0v9A",
        "colab_type": "code",
        "colab": {}
      },
      "source": [
        "class PartialConv2d(nn.Conv2d):\n",
        "    def __init__(self, *args, **kwargs):\n",
        "        super(PartialConv2d, self).__init__(*args, **kwargs)\n",
        "\n",
        "        self.multi_channel = False\n",
        "        self.return_mask = True\n",
        "        if self.multi_channel:\n",
        "            self.weight_maskUpdater = torch.ones(self.out_channels, self.in_channels, self.kernel_size[0], self.kernel_size[1])\n",
        "        else:\n",
        "            self.weight_maskUpdater = torch.ones(1, 1, self.kernel_size[0], self.kernel_size[1])\n",
        "            \n",
        "        self.slide_winsize = self.weight_maskUpdater.shape[1] * self.weight_maskUpdater.shape[2] * self.weight_maskUpdater.shape[3]\n",
        "\n",
        "        self.last_size = (None, None, None, None)\n",
        "        self.update_mask = None\n",
        "        self.mask_ratio = None\n",
        "\n",
        "    def forward(self, input, mask_in):\n",
        "        assert len(input.shape) == 4\n",
        "        if mask_in is not None or self.last_size != tuple(input.shape):\n",
        "            self.last_size = tuple(input.shape)\n",
        "\n",
        "            with torch.no_grad():\n",
        "                if self.weight_maskUpdater.type() != input.type():\n",
        "                    self.weight_maskUpdater = self.weight_maskUpdater.to(input)\n",
        "\n",
        "                if mask_in is None:\n",
        "                    # if mask is not provided, create a mask\n",
        "                    if self.multi_channel:\n",
        "                        mask = torch.ones(input.data.shape[0], input.data.shape[1], input.data.shape[2], input.data.shape[3]).to(input)\n",
        "                    else:\n",
        "                        mask = torch.ones(1, 1, input.data.shape[2], input.data.shape[3]).to(input)\n",
        "                else:\n",
        "                    mask = mask_in\n",
        "                        \n",
        "                self.update_mask = F.conv2d(mask, self.weight_maskUpdater, bias=None, stride=self.stride, padding=self.padding, dilation=self.dilation, groups=1)\n",
        "\n",
        "                # for mixed precision training, change 1e-8 to 1e-6\n",
        "                self.mask_ratio = self.slide_winsize/(self.update_mask + 1e-8)\n",
        "                # self.mask_ratio = torch.max(self.update_mask)/(self.update_mask + 1e-8)\n",
        "                self.update_mask = torch.clamp(self.update_mask, 0, 1)\n",
        "                self.mask_ratio = torch.mul(self.mask_ratio, self.update_mask)\n",
        "\n",
        "\n",
        "        raw_out = super(PartialConv2d, self).forward(torch.mul(input, mask) if mask_in is not None else input)\n",
        "\n",
        "        if self.bias is not None:\n",
        "            bias_view = self.bias.view(1, self.out_channels, 1, 1)\n",
        "            output = torch.mul(raw_out - bias_view, self.mask_ratio) + bias_view\n",
        "            output = torch.mul(output, self.update_mask)\n",
        "        else:\n",
        "            output = torch.mul(raw_out, self.mask_ratio)\n",
        "\n",
        "        if self.return_mask:\n",
        "            return output, self.update_mask\n",
        "        else:\n",
        "            return output"
      ],
      "execution_count": 48,
      "outputs": []
    },
    {
      "cell_type": "code",
      "metadata": {
        "id": "3q-mPsvJsETX",
        "colab_type": "code",
        "colab": {}
      },
      "source": [
        "def get_mask(imshape, bbox):\n",
        "    \"\"\"\n",
        "    mask: 0's for foreground\n",
        "    \"\"\"\n",
        "    c, r = imshape\n",
        "    x1, y1, w, h = bbox\n",
        "    x2 = x1 + w\n",
        "    y2 = y1 + h\n",
        "    mk = np.ones((r, c))\n",
        "    mk[y1: y2 + 1, x1: x2 + 1] = 0\n",
        "    return Image.fromarray(mk)\n",
        "\n",
        "def train_img_gen(mask_size=-1):\n",
        "    \"\"\"\n",
        "    - mask_size (int): -1: random mask\n",
        "                       0 ~ imsize: fixed size\n",
        "    \"\"\"\n",
        "    norm = transforms.Compose([\n",
        "        transforms.ToTensor(),\n",
        "        transforms.Normalize((0.5, 0.5, 0.5), (0.5, 0.5, 0.5))])\n",
        "    \n",
        "    imsize = 16\n",
        "    img = 255 * np.concatenate((np.ones((imsize,imsize,1)), np.zeros((imsize,imsize,2))), axis=2).astype(np.uint8)\n",
        "    if mask_size == -1:\n",
        "        bbox = np.random.randint(0, imsize, 4)\n",
        "        x1 = np.min(bbox[0: 2])\n",
        "        x2 = np.max(bbox[0: 2])\n",
        "        y1 = np.min(bbox[2: 4])\n",
        "        y2 = np.max(bbox[2: 4])\n",
        "    elif mask_size == 0:\n",
        "        x1, y1, x2, y2 = 0, 0, -1, -1\n",
        "    elif mask_size == imsize:\n",
        "        x1, y1 = 0, 0\n",
        "        x2, y2 = imsize-1, imsize-1\n",
        "    else:\n",
        "        bbox = np.random.randint(0, imsize-mask_size+1, 2)\n",
        "        x1 = bbox[0]\n",
        "        x2 = x1 + mask_size - 1\n",
        "        y1 = bbox[1]\n",
        "        y2 = y1 + mask_size - 1\n",
        "\n",
        "    noise = torch.FloatTensor(3, imsize, imsize)\n",
        "    noise.data.normal_(0, 1)\n",
        "      \n",
        "    img[y1: y2 + 1, x1: x2 + 1, 0] = 0\n",
        "    img[y1: y2 + 1, x1: x2 + 1, 1] = 255\n",
        "    # print(x1,y1,x2,y2)\n",
        "    img = Image.fromarray(img)\n",
        "    mk = torch.ones((1, imsize, imsize))\n",
        "    mk[0, y1: y2 + 1, x1: x2 + 1] = 0\n",
        "#     plt.hold()\n",
        "#     plt.imshow(img)\n",
        "#     plt.imshow(mk)\n",
        "    img = torch.clamp(norm(img) + noise * 1e-1, -1, 1)\n",
        "\n",
        "    return img, mk"
      ],
      "execution_count": 7,
      "outputs": []
    },
    {
      "cell_type": "code",
      "metadata": {
        "id": "a3zWgIlTsETZ",
        "colab_type": "code",
        "colab": {}
      },
      "source": [
        "def imshow(im):\n",
        "    _im = torchvision.utils.make_grid(im, pad_value=-1).detach().cpu().numpy()\n",
        "    _im = np.transpose(_im, (1, 2, 0))\n",
        "    _im = (_im + 1) * 255 / 2\n",
        "    _im = _im.astype(np.uint8)\n",
        "\n",
        "    plt.imshow(_im)"
      ],
      "execution_count": 9,
      "outputs": []
    },
    {
      "cell_type": "code",
      "metadata": {
        "id": "eFQvlezlsETb",
        "colab_type": "code",
        "colab": {}
      },
      "source": [
        "def prepare_data(batch_size, mask_size):\n",
        "    imsize = 16\n",
        "    im_li = []\n",
        "    mk_li = []\n",
        "    for i in range(batch_size):\n",
        "        im, mk = train_img_gen(mask_size)\n",
        "        im = im.view(1, 3, imsize, imsize)\n",
        "        # imshow(im)\n",
        "        mk = mk.view(1, 1, imsize, imsize)\n",
        "        im_li.append(im)\n",
        "        mk_li.append(mk)\n",
        "    ims = torch.cat(im_li, dim=0).cuda() \n",
        "    mks = torch.cat(mk_li, dim=0).cuda()\n",
        "    return ims, mks"
      ],
      "execution_count": 10,
      "outputs": []
    },
    {
      "cell_type": "code",
      "metadata": {
        "id": "5tlcfWdLxocu",
        "colab_type": "code",
        "colab": {
          "base_uri": "https://localhost:8080/",
          "height": 265
        },
        "outputId": "53983fcf-1d19-4fe8-e32e-6b8aa8285913"
      },
      "source": [
        "im, _ = prepare_data(1,2)\n",
        "imshow(im[0])"
      ],
      "execution_count": 11,
      "outputs": [
        {
          "output_type": "display_data",
          "data": {
            "image/png": "[encoded data removed]",
            "text/plain": [
              "<Figure size 432x288 with 1 Axes>"
            ]
          },
          "metadata": {
            "tags": [],
            "needs_background": "light"
          }
        }
      ]
    },
    {
      "cell_type": "code",
      "metadata": {
        "id": "MTig0vYXsETd",
        "colab_type": "code",
        "colab": {}
      },
      "source": [
        "nz = 64\n",
        "ngf = 64\n",
        "ndf = 64\n",
        "batch_size = 16\n",
        "mask_size = 13\n",
        "# use regular convolution\n",
        "reg_conv = False"
      ],
      "execution_count": 50,
      "outputs": []
    },
    {
      "cell_type": "code",
      "metadata": {
        "id": "0YDljOKjsETf",
        "colab_type": "code",
        "colab": {
          "base_uri": "https://localhost:8080/",
          "height": 86
        },
        "outputId": "0205cb0b-197b-4e6d-b1e4-67eb1b508687"
      },
      "source": [
        "netG = G(ngf, nz).cuda()\n",
        "netD = D(ndf).cuda()\n",
        "netG.apply(weights_init)\n",
        "netD.apply(weights_init)\n",
        "optD = optim.Adam(netD.parameters(),\n",
        "                  lr=2e-4,\n",
        "                  betas=(0.5, 0.999))\n",
        "optG = optim.Adam(netG.parameters(),\n",
        "                  lr=2e-4,\n",
        "                  betas=(0.5, 0.999))\n",
        "criterion_one = nn.BCELoss().cuda()"
      ],
      "execution_count": 51,
      "outputs": [
        {
          "output_type": "stream",
          "text": [
            "/usr/local/lib/python3.6/dist-packages/ipykernel_launcher.py:9: UserWarning: nn.init.orthogonal is now deprecated in favor of nn.init.orthogonal_.\n",
            "  if __name__ == '__main__':\n",
            "/usr/local/lib/python3.6/dist-packages/ipykernel_launcher.py:4: UserWarning: nn.init.orthogonal is now deprecated in favor of nn.init.orthogonal_.\n",
            "  after removing the cwd from sys.path.\n"
          ],
          "name": "stderr"
        }
      ]
    },
    {
      "cell_type": "code",
      "metadata": {
        "id": "kJ56N7rfeAdD",
        "colab_type": "code",
        "colab": {
          "base_uri": "https://localhost:8080/",
          "height": 345
        },
        "outputId": "8536c4c5-1910-4f52-c1f9-739e4dd947b2"
      },
      "source": [
        "max_count = 1001\n",
        "\n",
        "ep = 0\n",
        "netG.train()\n",
        "start_t = time.time()\n",
        "for count in range(1, max_count):\n",
        "    ims, mks = prepare_data(batch_size, mask_size)\n",
        "    if reg_conv:\n",
        "        mks = None\n",
        "\n",
        "    noise = Variable(torch.FloatTensor(batch_size, nz)).cuda()\n",
        "    noise.data.normal_(0, 1)\n",
        "    fake_ims = netG(noise)\n",
        "    \n",
        "    # train D    \n",
        "    netD.zero_grad()\n",
        "    real_logits = netD(ims, mks)\n",
        "    fake_logits = netD(fake_ims.detach(), mks)\n",
        "    fake_labels = torch.zeros_like(fake_logits)\n",
        "    real_labels = torch.ones_like(real_logits)\n",
        "    errD_real = criterion_one(real_logits, real_labels) # Real/Fake loss for the real image\n",
        "    # print(errD_real)\n",
        "    errD_fake = criterion_one(fake_logits, fake_labels) # Real/Fake loss for the fake image\n",
        "    # print(errD_fake)\n",
        "    errD = errD_real + errD_fake\n",
        "    errD.backward()\n",
        "    optD.step()\n",
        "    \n",
        "    # train G\n",
        "    netG.zero_grad()\n",
        "    netD.zero_grad()\n",
        "    # _, mks = prepare_data(batch_size, -1)\n",
        "    fake_logits = netD(fake_ims, mks)\n",
        "    real_labels = torch.ones_like(fake_logits)\n",
        "    errG = criterion_one(fake_logits, real_labels)\n",
        "    errG.backward()\n",
        "    optG.step()\n",
        "    \n",
        "    if count % 100 == 0:\n",
        "        ep += 1\n",
        "        end_t = time.time()\n",
        "        print('[%d/%d]Loss_D: %.2f Loss_G: %.2f Time: %.2fs'\n",
        "              % (ep, int(max_count/100),\n",
        "                errD.item(), errG.item(),\n",
        "                end_t - start_t))\n",
        "        imshow(fake_ims)\n",
        "        start_t = time.time()"
      ],
      "execution_count": 52,
      "outputs": [
        {
          "output_type": "stream",
          "text": [
            "/usr/local/lib/python3.6/dist-packages/torch/nn/functional.py:1625: UserWarning: nn.functional.sigmoid is deprecated. Use torch.sigmoid instead.\n",
            "  warnings.warn(\"nn.functional.sigmoid is deprecated. Use torch.sigmoid instead.\")\n"
          ],
          "name": "stderr"
        },
        {
          "output_type": "stream",
          "text": [
            "[1/10]Loss_D: 0.55 Loss_G: 1.69 Time: 1.71s\n",
            "[2/10]Loss_D: 1.26 Loss_G: 0.74 Time: 1.65s\n",
            "[3/10]Loss_D: 1.13 Loss_G: 0.94 Time: 1.67s\n",
            "[4/10]Loss_D: 1.15 Loss_G: 1.03 Time: 1.65s\n",
            "[5/10]Loss_D: 1.15 Loss_G: 0.94 Time: 1.63s\n",
            "[6/10]Loss_D: 1.30 Loss_G: 0.82 Time: 1.63s\n",
            "[7/10]Loss_D: 1.28 Loss_G: 0.78 Time: 1.68s\n",
            "[8/10]Loss_D: 1.33 Loss_G: 0.66 Time: 1.66s\n",
            "[9/10]Loss_D: 1.29 Loss_G: 0.92 Time: 1.66s\n",
            "[10/10]Loss_D: 1.29 Loss_G: 0.81 Time: 1.72s\n"
          ],
          "name": "stdout"
        },
        {
          "output_type": "display_data",
          "data": {
            "image/png": "[encoded data removed]",
            "text/plain": [
              "<Figure size 432x288 with 1 Axes>"
            ]
          },
          "metadata": {
            "tags": [],
            "needs_background": "light"
          }
        }
      ]
    },
    {
      "cell_type": "code",
      "metadata": {
        "scrolled": true,
        "id": "teRL9B0wsETk",
        "colab_type": "code",
        "colab": {
          "base_uri": "https://localhost:8080/",
          "height": 351
        },
        "outputId": "1c22c80b-a6df-49b9-ec4b-2ed00f0ccb29"
      },
      "source": [
        "netG.eval()\n",
        "_noise = Variable(torch.FloatTensor(batch_size, nz)).cuda()\n",
        "_noise.data.normal_(0, 1)\n",
        "imshow(netG(_noise)[0])\n",
        "netD(netG(_noise))"
      ],
      "execution_count": 53,
      "outputs": [
        {
          "output_type": "stream",
          "text": [
            "/usr/local/lib/python3.6/dist-packages/torch/nn/functional.py:1625: UserWarning: nn.functional.sigmoid is deprecated. Use torch.sigmoid instead.\n",
            "  warnings.warn(\"nn.functional.sigmoid is deprecated. Use torch.sigmoid instead.\")\n"
          ],
          "name": "stderr"
        },
        {
          "output_type": "execute_result",
          "data": {
            "text/plain": [
              "tensor([0.0229, 0.0047, 0.0095, 0.0044, 0.0175, 0.0229, 0.0030, 0.0058, 0.0148,\n",
              "        0.0228, 0.0051, 0.0343, 0.0444, 0.0210, 0.0144, 0.0052],\n",
              "       device='cuda:0', grad_fn=<ViewBackward>)"
            ]
          },
          "metadata": {
            "tags": []
          },
          "execution_count": 53
        },
        {
          "output_type": "display_data",
          "data": {
            "image/png": "[encoded data removed]",
            "text/plain": [
              "<Figure size 432x288 with 1 Axes>"
            ]
          },
          "metadata": {
            "tags": [],
            "needs_background": "light"
          }
        }
      ]
    },
    {
      "cell_type": "code",
      "metadata": {
        "id": "l5KK61Zuoakj",
        "colab_type": "code",
        "colab": {
          "base_uri": "https://localhost:8080/",
          "height": 351
        },
        "outputId": "0468ce42-1ead-4607-ac15-dc34c2ad1cca"
      },
      "source": [
        "im, mk = prepare_data(batch_size, 8)\n",
        "imshow(im[0])\n",
        "netD(im)"
      ],
      "execution_count": 153,
      "outputs": [
        {
          "output_type": "stream",
          "text": [
            "/usr/local/lib/python3.6/dist-packages/torch/nn/functional.py:1625: UserWarning: nn.functional.sigmoid is deprecated. Use torch.sigmoid instead.\n",
            "  warnings.warn(\"nn.functional.sigmoid is deprecated. Use torch.sigmoid instead.\")\n"
          ],
          "name": "stderr"
        },
        {
          "output_type": "execute_result",
          "data": {
            "text/plain": [
              "tensor([0.1871, 0.4514, 0.3616, 0.4671, 0.1843, 0.4203, 0.2225, 0.4274, 0.4221,\n",
              "        0.2742, 0.4633, 0.5547, 0.3108, 0.3523, 0.3356, 0.4635],\n",
              "       device='cuda:0', grad_fn=<ViewBackward>)"
            ]
          },
          "metadata": {
            "tags": []
          },
          "execution_count": 153
        },
        {
          "output_type": "display_data",
          "data": {
            "image/png": "[encoded data removed]",
            "text/plain": [
              "<Figure size 432x288 with 1 Axes>"
            ]
          },
          "metadata": {
            "tags": [],
            "needs_background": "light"
          }
        }
      ]
    },
    {
      "cell_type": "code",
      "metadata": {
        "id": "dkItoVL_sETm",
        "colab_type": "code",
        "colab": {
          "base_uri": "https://localhost:8080/",
          "height": 118
        },
        "outputId": "9c7ca1be-3ee4-4eca-d803-05dc5a367e6f"
      },
      "source": [
        "conv2d = PartialConv2d(3, 1, 3, 2, 0, bias=False)\n",
        "conv = PartialConv(3, 1, 3, 2, 0, bias=False)\n",
        "conv.input_conv.weight = conv2d.weight\n",
        "nn.init.constant(conv.mask_conv.weight, 1)"
      ],
      "execution_count": null,
      "outputs": [
        {
          "output_type": "stream",
          "text": [
            "/usr/local/lib/python3.6/dist-packages/ipykernel_launcher.py:4: UserWarning: nn.init.constant is now deprecated in favor of nn.init.constant_.\n",
            "  after removing the cwd from sys.path.\n"
          ],
          "name": "stderr"
        },
        {
          "output_type": "execute_result",
          "data": {
            "text/plain": [
              "Parameter containing:\n",
              "tensor([[[[1., 1., 1.],\n",
              "          [1., 1., 1.],\n",
              "          [1., 1., 1.]]]])"
            ]
          },
          "metadata": {
            "tags": []
          },
          "execution_count": 23
        }
      ]
    },
    {
      "cell_type": "code",
      "metadata": {
        "id": "S9bRpEsL2B-G",
        "colab_type": "code",
        "colab": {}
      },
      "source": [
        "L = nn.BCELoss()"
      ],
      "execution_count": 64,
      "outputs": []
    },
    {
      "cell_type": "code",
      "metadata": {
        "id": "Q-Sd9dKdqIzp",
        "colab_type": "code",
        "colab": {
          "base_uri": "https://localhost:8080/",
          "height": 52
        },
        "outputId": "a82ed7e7-9f04-420f-dd33-33b110247e4b"
      },
      "source": [
        "# x = torch.zeros(1)\n",
        "x = torch.tensor([0.])\n",
        "y = torch.ones(1)\n",
        "print(x, y)\n",
        "print(L(x, y))"
      ],
      "execution_count": 72,
      "outputs": [
        {
          "output_type": "stream",
          "text": [
            "tensor([0.]) tensor([1.])\n",
            "tensor(100.)\n"
          ],
          "name": "stdout"
        }
      ]
    },
    {
      "cell_type": "code",
      "metadata": {
        "id": "5lBgee6RR6c_",
        "colab_type": "code",
        "colab": {
          "base_uri": "https://localhost:8080/",
          "height": 35
        },
        "outputId": "dabe0a91-47ed-447a-f6df-880518a2ae02"
      },
      "source": [
        "L(x, y)"
      ],
      "execution_count": 69,
      "outputs": [
        {
          "output_type": "execute_result",
          "data": {
            "text/plain": [
              "tensor(100.)"
            ]
          },
          "metadata": {
            "tags": []
          },
          "execution_count": 69
        }
      ]
    },
    {
      "cell_type": "code",
      "metadata": {
        "id": "Cab_xVcFSCvW",
        "colab_type": "code",
        "colab": {
          "base_uri": "https://localhost:8080/",
          "height": 1000
        },
        "outputId": "2410c019-a5a9-46eb-ad08-1f812b307844"
      },
      "source": [
        "netG(_noise)[0]"
      ],
      "execution_count": 46,
      "outputs": [
        {
          "output_type": "execute_result",
          "data": {
            "text/plain": [
              "tensor([[[ 0.9996,  1.0000,  1.0000,  1.0000,  1.0000,  1.0000,  1.0000,\n",
              "           1.0000,  1.0000,  1.0000,  1.0000,  1.0000,  1.0000,  1.0000,\n",
              "           1.0000,  0.9997],\n",
              "         [ 1.0000,  1.0000,  1.0000,  1.0000,  1.0000,  1.0000,  1.0000,\n",
              "           1.0000,  1.0000,  1.0000,  1.0000,  1.0000,  1.0000,  1.0000,\n",
              "           1.0000,  0.9999],\n",
              "         [ 0.9990,  1.0000,  1.0000,  1.0000,  1.0000,  1.0000,  1.0000,\n",
              "           1.0000,  1.0000,  0.9999,  0.9998,  0.9995,  1.0000,  1.0000,\n",
              "           1.0000,  0.9994],\n",
              "         [ 0.9843,  0.9986,  1.0000,  1.0000,  1.0000,  1.0000,  1.0000,\n",
              "           1.0000,  1.0000,  0.9998,  0.9993,  0.9983,  1.0000,  1.0000,\n",
              "           1.0000,  0.9998],\n",
              "         [ 0.9648,  0.9737,  0.9994,  1.0000,  1.0000,  1.0000,  1.0000,\n",
              "           1.0000,  1.0000,  0.9999,  0.9987,  0.9943,  1.0000,  1.0000,\n",
              "           1.0000,  0.9995],\n",
              "         [ 0.9987,  0.9973,  0.9994,  0.9998,  1.0000,  1.0000,  1.0000,\n",
              "           1.0000,  1.0000,  0.9998,  0.9965,  0.9903,  0.9999,  1.0000,\n",
              "           1.0000,  0.9984],\n",
              "         [ 0.9999,  0.9996,  0.9989,  0.9952,  0.9985,  0.9993,  0.9995,\n",
              "           0.9998,  0.9997,  0.9996,  0.9943,  0.9872,  0.9999,  1.0000,\n",
              "           1.0000,  0.9954],\n",
              "         [ 0.9999,  0.9997,  0.9982,  0.9834,  0.9724,  0.9602,  0.9783,\n",
              "           0.9949,  0.9992,  0.9996,  0.9973,  0.9930,  0.9999,  1.0000,\n",
              "           1.0000,  0.9862],\n",
              "         [ 1.0000,  1.0000,  0.9999,  0.9990,  0.9868,  0.8432,  0.9096,\n",
              "           0.9628,  0.9961,  0.9994,  0.9986,  0.9982,  1.0000,  1.0000,\n",
              "           1.0000,  0.9933],\n",
              "         [ 0.9999,  1.0000,  1.0000,  1.0000,  0.9999,  0.9961,  0.9973,\n",
              "           0.9962,  0.9995,  0.9999,  0.9997,  0.9989,  1.0000,  1.0000,\n",
              "           1.0000,  0.9975],\n",
              "         [ 0.9974,  0.9997,  1.0000,  1.0000,  1.0000,  1.0000,  1.0000,\n",
              "           0.9992,  0.9992,  0.9996,  0.9986,  0.9961,  1.0000,  1.0000,\n",
              "           1.0000,  0.9984],\n",
              "         [ 0.9789,  0.9989,  1.0000,  1.0000,  1.0000,  1.0000,  1.0000,\n",
              "           0.9979,  0.9299,  0.7137,  0.5622,  0.6042,  0.9993,  1.0000,\n",
              "           1.0000,  0.9989],\n",
              "         [ 0.9780,  0.9938,  0.9999,  1.0000,  1.0000,  1.0000,  1.0000,\n",
              "           0.9993,  0.7205, -0.5531, -0.6078, -0.2486,  0.9909,  0.9999,\n",
              "           1.0000,  0.9955],\n",
              "         [ 1.0000,  1.0000,  1.0000,  1.0000,  1.0000,  1.0000,  1.0000,\n",
              "           1.0000,  0.9962,  0.9478,  0.9739,  0.9918,  1.0000,  1.0000,\n",
              "           1.0000,  0.9962],\n",
              "         [ 1.0000,  1.0000,  1.0000,  0.9999,  0.9999,  1.0000,  1.0000,\n",
              "           1.0000,  1.0000,  0.9999,  0.9999,  1.0000,  1.0000,  1.0000,\n",
              "           1.0000,  0.9759],\n",
              "         [ 1.0000,  1.0000,  0.9998, -0.0708,  0.0966,  0.9870,  0.9994,\n",
              "           1.0000,  0.9998,  0.9988,  0.9954,  0.9944,  0.9971,  0.9749,\n",
              "           0.8852, -0.1817]],\n",
              "\n",
              "        [[-0.9995, -1.0000, -1.0000, -1.0000, -1.0000, -1.0000, -1.0000,\n",
              "          -1.0000, -1.0000, -1.0000, -1.0000, -1.0000, -1.0000, -1.0000,\n",
              "          -1.0000, -0.9995],\n",
              "         [-1.0000, -1.0000, -1.0000, -1.0000, -1.0000, -1.0000, -1.0000,\n",
              "          -1.0000, -1.0000, -1.0000, -1.0000, -1.0000, -1.0000, -1.0000,\n",
              "          -1.0000, -0.9998],\n",
              "         [-0.9991, -1.0000, -1.0000, -1.0000, -1.0000, -1.0000, -1.0000,\n",
              "          -1.0000, -1.0000, -0.9998, -0.9998, -0.9994, -1.0000, -1.0000,\n",
              "          -1.0000, -0.9992],\n",
              "         [-0.9842, -0.9986, -1.0000, -1.0000, -1.0000, -1.0000, -1.0000,\n",
              "          -1.0000, -1.0000, -0.9997, -0.9992, -0.9979, -1.0000, -1.0000,\n",
              "          -1.0000, -0.9996],\n",
              "         [-0.9631, -0.9751, -0.9994, -1.0000, -1.0000, -1.0000, -1.0000,\n",
              "          -1.0000, -1.0000, -0.9999, -0.9986, -0.9936, -1.0000, -1.0000,\n",
              "          -1.0000, -0.9992],\n",
              "         [-0.9986, -0.9974, -0.9994, -0.9998, -1.0000, -1.0000, -1.0000,\n",
              "          -1.0000, -1.0000, -0.9998, -0.9963, -0.9888, -0.9999, -1.0000,\n",
              "          -1.0000, -0.9978],\n",
              "         [-0.9999, -0.9996, -0.9988, -0.9947, -0.9982, -0.9993, -0.9995,\n",
              "          -0.9998, -0.9997, -0.9995, -0.9937, -0.9848, -0.9999, -1.0000,\n",
              "          -1.0000, -0.9931],\n",
              "         [-0.9999, -0.9998, -0.9978, -0.9807, -0.9699, -0.9556, -0.9791,\n",
              "          -0.9950, -0.9990, -0.9995, -0.9966, -0.9917, -0.9998, -1.0000,\n",
              "          -1.0000, -0.9812],\n",
              "         [-1.0000, -1.0000, -0.9999, -0.9988, -0.9841, -0.8381, -0.8985,\n",
              "          -0.9578, -0.9963, -0.9993, -0.9983, -0.9977, -1.0000, -1.0000,\n",
              "          -1.0000, -0.9902],\n",
              "         [-0.9999, -1.0000, -0.9999, -1.0000, -0.9998, -0.9956, -0.9969,\n",
              "          -0.9961, -0.9995, -0.9999, -0.9996, -0.9985, -1.0000, -1.0000,\n",
              "          -1.0000, -0.9962],\n",
              "         [-0.9975, -0.9998, -1.0000, -1.0000, -1.0000, -1.0000, -1.0000,\n",
              "          -0.9989, -0.9992, -0.9995, -0.9988, -0.9965, -1.0000, -1.0000,\n",
              "          -1.0000, -0.9977],\n",
              "         [-0.9829, -0.9989, -1.0000, -1.0000, -1.0000, -1.0000, -1.0000,\n",
              "          -0.9977, -0.9388, -0.7402, -0.5829, -0.6068, -0.9991, -1.0000,\n",
              "          -1.0000, -0.9984],\n",
              "         [-0.9772, -0.9935, -0.9999, -1.0000, -1.0000, -1.0000, -1.0000,\n",
              "          -0.9993, -0.7124,  0.5574,  0.6046,  0.2511, -0.9906, -0.9999,\n",
              "          -1.0000, -0.9941],\n",
              "         [-1.0000, -1.0000, -1.0000, -1.0000, -1.0000, -1.0000, -1.0000,\n",
              "          -1.0000, -0.9962, -0.9456, -0.9730, -0.9909, -0.9999, -1.0000,\n",
              "          -1.0000, -0.9948],\n",
              "         [-1.0000, -1.0000, -1.0000, -0.9999, -0.9999, -1.0000, -1.0000,\n",
              "          -1.0000, -1.0000, -0.9999, -0.9999, -1.0000, -1.0000, -1.0000,\n",
              "          -1.0000, -0.9701],\n",
              "         [-1.0000, -1.0000, -0.9999,  0.0807, -0.0999, -0.9887, -0.9994,\n",
              "          -1.0000, -0.9999, -0.9990, -0.9965, -0.9960, -0.9985, -0.9830,\n",
              "          -0.9026,  0.1771]],\n",
              "\n",
              "        [[-0.9997, -1.0000, -1.0000, -1.0000, -1.0000, -1.0000, -1.0000,\n",
              "          -1.0000, -1.0000, -1.0000, -1.0000, -1.0000, -1.0000, -1.0000,\n",
              "          -1.0000, -0.9998],\n",
              "         [-1.0000, -1.0000, -1.0000, -1.0000, -1.0000, -1.0000, -1.0000,\n",
              "          -1.0000, -1.0000, -1.0000, -1.0000, -1.0000, -1.0000, -1.0000,\n",
              "          -1.0000, -0.9999],\n",
              "         [-0.9991, -1.0000, -1.0000, -1.0000, -1.0000, -1.0000, -1.0000,\n",
              "          -1.0000, -1.0000, -0.9999, -0.9998, -0.9996, -1.0000, -1.0000,\n",
              "          -1.0000, -0.9996],\n",
              "         [-0.9850, -0.9987, -1.0000, -1.0000, -1.0000, -1.0000, -1.0000,\n",
              "          -1.0000, -1.0000, -0.9998, -0.9994, -0.9984, -1.0000, -1.0000,\n",
              "          -1.0000, -0.9998],\n",
              "         [-0.9689, -0.9737, -0.9994, -1.0000, -1.0000, -1.0000, -1.0000,\n",
              "          -1.0000, -1.0000, -0.9999, -0.9988, -0.9950, -1.0000, -1.0000,\n",
              "          -1.0000, -0.9996],\n",
              "         [-0.9989, -0.9976, -0.9995, -0.9998, -1.0000, -1.0000, -1.0000,\n",
              "          -1.0000, -1.0000, -0.9998, -0.9968, -0.9908, -1.0000, -1.0000,\n",
              "          -1.0000, -0.9990],\n",
              "         [-0.9999, -0.9996, -0.9990, -0.9949, -0.9986, -0.9994, -0.9996,\n",
              "          -0.9998, -0.9998, -0.9997, -0.9953, -0.9884, -0.9999, -1.0000,\n",
              "          -1.0000, -0.9967],\n",
              "         [-0.9999, -0.9997, -0.9981, -0.9821, -0.9715, -0.9565, -0.9789,\n",
              "          -0.9957, -0.9994, -0.9997, -0.9981, -0.9944, -0.9999, -1.0000,\n",
              "          -1.0000, -0.9896],\n",
              "         [-1.0000, -1.0000, -1.0000, -0.9992, -0.9862, -0.8354, -0.9030,\n",
              "          -0.9650, -0.9966, -0.9995, -0.9989, -0.9984, -1.0000, -1.0000,\n",
              "          -1.0000, -0.9956],\n",
              "         [-0.9999, -1.0000, -1.0000, -1.0000, -0.9999, -0.9961, -0.9970,\n",
              "          -0.9966, -0.9996, -0.9999, -0.9998, -0.9990, -1.0000, -1.0000,\n",
              "          -1.0000, -0.9982],\n",
              "         [-0.9971, -0.9997, -1.0000, -1.0000, -1.0000, -1.0000, -1.0000,\n",
              "          -0.9992, -0.9992, -0.9996, -0.9989, -0.9968, -1.0000, -1.0000,\n",
              "          -1.0000, -0.9989],\n",
              "         [-0.9801, -0.9991, -1.0000, -1.0000, -1.0000, -1.0000, -1.0000,\n",
              "          -0.9976, -0.9181, -0.6763, -0.5062, -0.5977, -0.9994, -1.0000,\n",
              "          -1.0000, -0.9993],\n",
              "         [-0.9801, -0.9931, -0.9999, -1.0000, -1.0000, -1.0000, -1.0000,\n",
              "          -0.9995, -0.7154,  0.6048,  0.6392,  0.2719, -0.9921, -0.9999,\n",
              "          -1.0000, -0.9969],\n",
              "         [-1.0000, -1.0000, -1.0000, -1.0000, -1.0000, -1.0000, -1.0000,\n",
              "          -1.0000, -0.9968, -0.9488, -0.9724, -0.9921, -1.0000, -1.0000,\n",
              "          -1.0000, -0.9977],\n",
              "         [-1.0000, -1.0000, -1.0000, -0.9999, -0.9999, -1.0000, -1.0000,\n",
              "          -1.0000, -1.0000, -0.9999, -1.0000, -1.0000, -1.0000, -1.0000,\n",
              "          -1.0000, -0.9823],\n",
              "         [-1.0000, -1.0000, -0.9998,  0.0886, -0.0605, -0.9857, -0.9995,\n",
              "          -1.0000, -0.9998, -0.9987, -0.9948, -0.9935, -0.9966, -0.9697,\n",
              "          -0.8780,  0.1808]]], device='cuda:0', grad_fn=<SelectBackward>)"
            ]
          },
          "metadata": {
            "tags": []
          },
          "execution_count": 46
        }
      ]
    },
    {
      "cell_type": "code",
      "metadata": {
        "id": "SEZ098DZ9GKt",
        "colab_type": "code",
        "colab": {}
      },
      "source": [
        ""
      ],
      "execution_count": null,
      "outputs": []
    }
  ]
}