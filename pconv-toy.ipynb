{
  "nbformat": 4,
  "nbformat_minor": 0,
  "metadata": {
    "kernelspec": {
      "display_name": "Python 3",
      "language": "python",
      "name": "python3"
    },
    "language_info": {
      "codemirror_mode": {
        "name": "ipython",
        "version": 3
      },
      "file_extension": ".py",
      "mimetype": "text/x-python",
      "name": "python",
      "nbconvert_exporter": "python",
      "pygments_lexer": "ipython3",
      "version": "3.6.10"
    },
    "colab": {
      "name": "pconv-toy.ipynb",
      "provenance": []
    },
    "accelerator": "GPU"
  },
  "cells": [
    {
      "cell_type": "code",
      "metadata": {
        "id": "vUlgHv-n5fgt",
        "colab_type": "code",
        "colab": {
          "base_uri": "https://localhost:8080/",
          "height": 363
        },
        "outputId": "7c8674e7-372d-496b-e895-7f226ade374e"
      },
      "source": [
        "!nvidia-smi"
      ],
      "execution_count": 38,
      "outputs": [
        {
          "output_type": "stream",
          "text": [
            "Thu Sep 10 08:45:42 2020       \n",
            "+-----------------------------------------------------------------------------+\n",
            "| NVIDIA-SMI 450.66       Driver Version: 418.67       CUDA Version: 10.1     |\n",
            "|-------------------------------+----------------------+----------------------+\n",
            "| GPU  Name        Persistence-M| Bus-Id        Disp.A | Volatile Uncorr. ECC |\n",
            "| Fan  Temp  Perf  Pwr:Usage/Cap|         Memory-Usage | GPU-Util  Compute M. |\n",
            "|                               |                      |               MIG M. |\n",
            "|===============================+======================+======================|\n",
            "|   0  Tesla P100-PCIE...  Off  | 00000000:00:04.0 Off |                    0 |\n",
            "| N/A   36C    P0    32W / 250W |    827MiB / 16280MiB |      0%      Default |\n",
            "|                               |                      |                 ERR! |\n",
            "+-------------------------------+----------------------+----------------------+\n",
            "                                                                               \n",
            "+-----------------------------------------------------------------------------+\n",
            "| Processes:                                                                  |\n",
            "|  GPU   GI   CI        PID   Type   Process name                  GPU Memory |\n",
            "|        ID   ID                                                   Usage      |\n",
            "|=============================================================================|\n",
            "|  No running processes found                                                 |\n",
            "+-----------------------------------------------------------------------------+\n"
          ],
          "name": "stdout"
        }
      ]
    },
    {
      "cell_type": "code",
      "metadata": {
        "scrolled": true,
        "id": "MsJ-8UM_sETP",
        "colab_type": "code",
        "colab": {}
      },
      "source": [
        "import torch\n",
        "import numpy as np\n",
        "import torch.nn as nn\n",
        "import torch.nn.functional as F\n",
        "import torchvision.transforms as transforms\n",
        "from PIL import Image\n",
        "import matplotlib.pyplot as plt\n",
        "import torch.optim as optim\n",
        "import time\n",
        "from torch.autograd import Variable\n",
        "import torchvision\n",
        "import seaborn as sns\n",
        "%matplotlib inline"
      ],
      "execution_count": 39,
      "outputs": []
    },
    {
      "cell_type": "code",
      "metadata": {
        "id": "5p-O0TfOA242",
        "colab_type": "code",
        "colab": {}
      },
      "source": [
        "# torch.cuda.set_device(0)"
      ],
      "execution_count": 40,
      "outputs": []
    },
    {
      "cell_type": "code",
      "metadata": {
        "id": "2SIKZDPksETS",
        "colab_type": "code",
        "colab": {}
      },
      "source": [
        "class G(nn.Module):\n",
        "    def __init__(self, ngf=64, nz=64):\n",
        "        super().__init__()\n",
        "        self.ngf = ngf\n",
        "        self.nz = nz\n",
        "        self.define_module()\n",
        "\n",
        "    def define_module(self):\n",
        "        ngf = self.ngf\n",
        "        in_dim = self.nz\n",
        "        self.fc = nn.Sequential(\n",
        "            nn.Linear(in_dim, ngf * 4 * 4, bias=False),\n",
        "            nn.BatchNorm1d(ngf * 4 * 4),\n",
        "            nn.LeakyReLU(0.2, inplace=True))\n",
        "\n",
        "        self.upsample1 = upBlock(ngf, ngf // 2)\n",
        "        self.upsample2 = upBlock(ngf // 2, ngf // 4)\n",
        "        self.to_rgb = TO_RGB_LAYER(ngf // 4)\n",
        "\n",
        "    def forward(self, z_code):\n",
        "        out_code = self.fc(z_code)\n",
        "        out_code = out_code.view(-1, self.ngf, 4, 4)     # 64 * 4 * 4\n",
        "        out_code = self.upsample1(out_code)              # 32 * 8 * 8\n",
        "        out_code = self.upsample2(out_code)              # 16 * 16 * 16\n",
        "        img = self.to_rgb(out_code)\n",
        "        return img\n",
        "    \n",
        "\n",
        "class D(nn.Module):\n",
        "    def __init__(self, ndf=64):\n",
        "        super().__init__()\n",
        "        self.ndf = ndf\n",
        "        self.define_module()\n",
        "\n",
        "    def define_module(self):\n",
        "        ndf = self.ndf\n",
        "        self.from_rgb = fromRGB_layer(ndf // 4)\n",
        "        self.downblock1 = downBlock_p(ndf // 4, ndf // 2, 3, 1, 1)\n",
        "        self.downblock2 = downBlock_p(ndf // 2, ndf, 3, 1, 1)\n",
        "#         self.downblock3 = downBlock_p(ndf * 2, ndf * 2, 3, 1, 1)\n",
        "        self.uncond_logits = PartialConv2d(ndf, 1, kernel_size=4, stride=4)\n",
        "    def forward(self, x_var, mask=None):\n",
        "        \"\"\"\n",
        "        - x_var (tensor): 3x16x16\n",
        "        - mask (tensor): 1x16x16\n",
        "        \"\"\"\n",
        "        xcl = []\n",
        "        x_code1 = self.from_rgb(x_var)                 # 16 * 16 * 16\n",
        "        xcl.append(x_code1)\n",
        "        x_code2, mask = self.downblock1(x_code1, mask)  # 32 * 8 * 8\n",
        "        xcl.append(x_code2)\n",
        "        x_code3, mask = self.downblock2(x_code2, mask)  # 64 * 4 * 4\n",
        "        xcl.append(x_code3)\n",
        "        rf_score, _ = self.uncond_logits(x_code3, mask)\n",
        "        rf_score = F.sigmoid(rf_score)\n",
        "        return rf_score.view(-1), xcl"
      ],
      "execution_count": 42,
      "outputs": []
    },
    {
      "cell_type": "code",
      "metadata": {
        "id": "eoRt86b_sETU",
        "colab_type": "code",
        "colab": {}
      },
      "source": [
        "def weights_init(m):\n",
        "    classname = m.__class__.__name__\n",
        "    if isinstance(m, nn.Conv2d):\n",
        "        nn.init.orthogonal(m.weight.data, 1.0)\n",
        "    elif isinstance(m, nn.BatchNorm2d):\n",
        "        m.weight.data.normal_(1.0, 0.02)\n",
        "        m.bias.data.fill_(0)\n",
        "    elif isinstance(m, nn.Linear):\n",
        "        nn.init.orthogonal(m.weight.data, 1.0)\n",
        "        if m.bias is not None:\n",
        "            m.bias.data.fill_(0.0)\n",
        "    elif classname == 'PartialConv':\n",
        "        nn.init.constant_(m.mask_conv.weight.data, 1.0)\n",
        "\n",
        "        \n",
        "def upBlock(in_planes, out_planes):\n",
        "    block = nn.Sequential(\n",
        "        nn.Upsample(scale_factor=2, mode='nearest'),\n",
        "        nn.Conv2d(in_planes, out_planes, kernel_size=3, stride=1, padding=1, bias=False),\n",
        "        nn.BatchNorm2d(out_planes),\n",
        "        nn.LeakyReLU(0.2, inplace=True))\n",
        "    return block\n",
        "\n",
        "\n",
        "class TO_RGB_LAYER(nn.Module):\n",
        "    def __init__(self, ngf):\n",
        "        super().__init__()\n",
        "        self.gf_dim = ngf\n",
        "        self.img = nn.Sequential(\n",
        "            nn.Conv2d(ngf, 3, kernel_size=3, stride=1, padding=1, bias=False),\n",
        "            nn.Tanh()\n",
        "        )\n",
        "\n",
        "    def forward(self, h_code):\n",
        "        out_img = self.img(h_code)\n",
        "        return out_img\n",
        "\n",
        "    \n",
        "class PartialConv(nn.Module):\n",
        "    def __init__(self, in_channels, out_channels, kernel_size=3, stride=1, padding=1, \n",
        "                 dilation=1, groups=1,bias=False):\n",
        "        super().__init__()\n",
        "        self.input_conv = nn.Conv2d(\n",
        "            in_channels, out_channels, kernel_size, stride, padding, dilation, groups, bias)\n",
        "        self.mask_conv = nn.Conv2d(\n",
        "            1, 1, kernel_size, stride, padding, dilation, groups, False)\n",
        "\n",
        "        # mask is not updated\n",
        "        for param in self.mask_conv.parameters():\n",
        "            param.requires_grad = False\n",
        "\n",
        "        self.bias = self.input_conv.bias\n",
        "        self.all = kernel_size * kernel_size\n",
        "    def forward(self, input, mask=None):\n",
        "        \"\"\"\n",
        "        input is regular tensor with shape N*C*H*W\n",
        "        mask has to have 1 channel N*1*H*W\n",
        "\n",
        "        mask: 0's for foreground\n",
        "        \"\"\"\n",
        "        if mask is None:\n",
        "            return self.input_conv(input), mask\n",
        "        \n",
        "        output = self.input_conv(input * mask)\n",
        "        # get bias which will be used later\n",
        "        if self.input_conv.bias is not None:\n",
        "            output_bias = self.input_conv.bias.view(1, -1, 1, 1).expand_as(output)\n",
        "        else:\n",
        "            output_bias = torch.zeros_like(output)\n",
        "\n",
        "        with torch.no_grad():\n",
        "            _frac = self.mask_conv(torch.ones_like(mask))\n",
        "            mask = self.mask_conv(mask)\n",
        "\n",
        "        no_update_holes = mask == 0\n",
        "        mask_ratio = _frac / mask.masked_fill_(no_update_holes, 1.0)\n",
        "        # mask_ratio = 1\n",
        "        output_pre = (output - output_bias) * mask_ratio + output_bias\n",
        "        output = output_pre.masked_fill_(no_update_holes, 0.0)\n",
        "        new_mask = 1 - no_update_holes.float()\n",
        "        return output, mask\n",
        "\n",
        "\n",
        "class downBlock_p(nn.Module):\n",
        "    def __init__(self, in_channels, out_channels, kernel_size=3, stride=1, padding=0, \n",
        "                 dilation=1, groups=1, bias=False):\n",
        "        super().__init__()\n",
        "        self.conv = PartialConv2d(in_channels, out_channels,\n",
        "            kernel_size, stride, padding, dilation, groups, bias)\n",
        "        # self.bn = nn.BatchNorm2d(out_channels)\n",
        "\n",
        "    def forward(self, input, mask=None):\n",
        "        \"\"\"\n",
        "        input is regular tensor with shape N*C*H*W\n",
        "        mask has to have 1 channel N*1*H*W\n",
        "        \"\"\"\n",
        "        output, mask = self.conv(input, mask)\n",
        "        # output = self.bn(output)\n",
        "        output = F.leaky_relu(output, 0.2, inplace=True)\n",
        "        # output = F.tanh(output)\n",
        "        output = F.avg_pool2d(output, 2)\n",
        "        if mask is not None:\n",
        "            mask = F.avg_pool2d(mask, 2)\n",
        "            no_update_holes = mask == 0\n",
        "            mask = 1 - no_update_holes.float()\n",
        "        return output, mask\n",
        "    \n",
        "    \n",
        "def fromRGB_layer(out_planes):\n",
        "    layer = nn.Sequential(\n",
        "        nn.Conv2d(3, out_planes, 1, 1, 0, bias=False),\n",
        "        nn.LeakyReLU(0.2, inplace=True)\n",
        "    )\n",
        "    return layer"
      ],
      "execution_count": 59,
      "outputs": []
    },
    {
      "cell_type": "code",
      "metadata": {
        "id": "Q1xuc2i_0v9A",
        "colab_type": "code",
        "colab": {}
      },
      "source": [
        "class PartialConv2d(nn.Conv2d):\n",
        "    def __init__(self, *args, **kwargs):\n",
        "        super(PartialConv2d, self).__init__(*args, **kwargs)\n",
        "\n",
        "        self.multi_channel = False\n",
        "        self.return_mask = True\n",
        "        if self.multi_channel:\n",
        "            self.weight_maskUpdater = torch.ones(self.out_channels, self.in_channels, self.kernel_size[0], self.kernel_size[1])\n",
        "        else:\n",
        "            self.weight_maskUpdater = torch.ones(1, 1, self.kernel_size[0], self.kernel_size[1])\n",
        "            \n",
        "        self.slide_winsize = self.weight_maskUpdater.shape[1] * self.weight_maskUpdater.shape[2] * self.weight_maskUpdater.shape[3]\n",
        "\n",
        "        self.last_size = (None, None, None, None)\n",
        "        self.update_mask = None\n",
        "        self.mask_ratio = None\n",
        "\n",
        "    def forward(self, input, mask_in):\n",
        "        assert len(input.shape) == 4\n",
        "        if mask_in is not None or self.last_size != tuple(input.shape):\n",
        "            self.last_size = tuple(input.shape)\n",
        "\n",
        "            with torch.no_grad():\n",
        "                if self.weight_maskUpdater.type() != input.type():\n",
        "                    self.weight_maskUpdater = self.weight_maskUpdater.to(input)\n",
        "\n",
        "                if mask_in is None:\n",
        "                    # if mask is not provided, create a mask\n",
        "                    if self.multi_channel:\n",
        "                        mask = torch.ones(input.data.shape[0], input.data.shape[1], input.data.shape[2], input.data.shape[3]).to(input)\n",
        "                    else:\n",
        "                        mask = torch.ones(1, 1, input.data.shape[2], input.data.shape[3]).to(input)\n",
        "                else:\n",
        "                    mask = mask_in\n",
        "                        \n",
        "                self.update_mask = F.conv2d(mask, self.weight_maskUpdater, bias=None, stride=self.stride, padding=self.padding, dilation=self.dilation, groups=1)\n",
        "\n",
        "                # for mixed precision training, change 1e-8 to 1e-6\n",
        "                self.mask_ratio = self.slide_winsize/(self.update_mask + 1e-8)\n",
        "                # self.mask_ratio = torch.max(self.update_mask)/(self.update_mask + 1e-8)\n",
        "                self.update_mask = torch.clamp(self.update_mask, 0, 1)\n",
        "                self.mask_ratio = torch.mul(self.mask_ratio, self.update_mask)\n",
        "\n",
        "\n",
        "        raw_out = super(PartialConv2d, self).forward(torch.mul(input, mask) if mask_in is not None else input)\n",
        "\n",
        "        if self.bias is not None:\n",
        "            bias_view = self.bias.view(1, self.out_channels, 1, 1)\n",
        "            output = torch.mul(raw_out - bias_view, self.mask_ratio) + bias_view\n",
        "            output = torch.mul(output, self.update_mask)\n",
        "        else:\n",
        "            output = torch.mul(raw_out, self.mask_ratio)\n",
        "\n",
        "        if self.return_mask:\n",
        "            return output, self.update_mask\n",
        "        else:\n",
        "            return output"
      ],
      "execution_count": 44,
      "outputs": []
    },
    {
      "cell_type": "code",
      "metadata": {
        "id": "3q-mPsvJsETX",
        "colab_type": "code",
        "colab": {}
      },
      "source": [
        "def get_mask(imshape, bbox):\n",
        "    \"\"\"\n",
        "    mask: 0's for foreground\n",
        "    \"\"\"\n",
        "    c, r = imshape\n",
        "    x1, y1, w, h = bbox\n",
        "    x2 = x1 + w\n",
        "    y2 = y1 + h\n",
        "    mk = np.ones((r, c))\n",
        "    mk[y1: y2 + 1, x1: x2 + 1] = 0\n",
        "    return Image.fromarray(mk)\n",
        "\n",
        "def train_img_gen(mask_size=-1):\n",
        "    \"\"\"\n",
        "    - mask_size (int): -1: random mask\n",
        "                       0 ~ imsize: fixed size\n",
        "    \"\"\"\n",
        "    norm = transforms.Compose([\n",
        "        transforms.ToTensor(),\n",
        "        transforms.Normalize((0.5, 0.5, 0.5), (0.5, 0.5, 0.5))])\n",
        "    \n",
        "    imsize = 16\n",
        "    img = 255 * np.concatenate((np.ones((imsize,imsize,1)), np.zeros((imsize,imsize,2))), axis=2).astype(np.uint8)\n",
        "    if mask_size == -1:\n",
        "        bbox = np.random.randint(0, imsize, 4)\n",
        "        x1 = np.min(bbox[0: 2])\n",
        "        x2 = np.max(bbox[0: 2])\n",
        "        y1 = np.min(bbox[2: 4])\n",
        "        y2 = np.max(bbox[2: 4])\n",
        "    elif mask_size == 0:\n",
        "        x1, y1, x2, y2 = 0, 0, -1, -1\n",
        "    elif mask_size == imsize:\n",
        "        x1, y1 = 0, 0\n",
        "        x2, y2 = imsize-1, imsize-1\n",
        "    else:\n",
        "        bbox = np.random.randint(0, imsize-mask_size+1, 2)\n",
        "        x1 = bbox[0]\n",
        "        x2 = x1 + mask_size - 1\n",
        "        y1 = bbox[1]\n",
        "        y2 = y1 + mask_size - 1\n",
        "\n",
        "    noise = torch.FloatTensor(3, imsize, imsize)\n",
        "    noise.data.normal_(0, 1)\n",
        "      \n",
        "    img[y1: y2 + 1, x1: x2 + 1, 0] = 0\n",
        "    img[y1: y2 + 1, x1: x2 + 1, 1] = 255\n",
        "    # print(x1,y1,x2,y2)\n",
        "    img = Image.fromarray(img)\n",
        "    mk = torch.ones((1, imsize, imsize))\n",
        "    mk[0, y1: y2 + 1, x1: x2 + 1] = 0\n",
        "#     plt.hold()\n",
        "#     plt.imshow(img)\n",
        "#     plt.imshow(mk)\n",
        "    img = torch.clamp(norm(img) + noise * 1e-1, -1, 1)\n",
        "\n",
        "    return img, mk"
      ],
      "execution_count": 45,
      "outputs": []
    },
    {
      "cell_type": "code",
      "metadata": {
        "id": "a3zWgIlTsETZ",
        "colab_type": "code",
        "colab": {}
      },
      "source": [
        "def imshow(im):\n",
        "    _im = torchvision.utils.make_grid(im, pad_value=-1).detach().cpu().numpy()\n",
        "    _im = np.transpose(_im, (1, 2, 0))\n",
        "    _im = (_im + 1) * 255 / 2\n",
        "    _im = _im.astype(np.uint8)\n",
        "\n",
        "    plt.imshow(_im)"
      ],
      "execution_count": 46,
      "outputs": []
    },
    {
      "cell_type": "code",
      "metadata": {
        "id": "eFQvlezlsETb",
        "colab_type": "code",
        "colab": {}
      },
      "source": [
        "def prepare_data(batch_size, mask_size):\n",
        "    imsize = 16\n",
        "    im_li = []\n",
        "    mk_li = []\n",
        "    for i in range(batch_size):\n",
        "        im, mk = train_img_gen(mask_size)\n",
        "        im = im.view(1, 3, imsize, imsize)\n",
        "        # imshow(im)\n",
        "        mk = mk.view(1, 1, imsize, imsize)\n",
        "        im_li.append(im)\n",
        "        mk_li.append(mk)\n",
        "    ims = torch.cat(im_li, dim=0).cuda() \n",
        "    mks = torch.cat(mk_li, dim=0).cuda()\n",
        "    return ims, mks"
      ],
      "execution_count": 47,
      "outputs": []
    },
    {
      "cell_type": "code",
      "metadata": {
        "id": "5tlcfWdLxocu",
        "colab_type": "code",
        "colab": {
          "base_uri": "https://localhost:8080/",
          "height": 265
        },
        "outputId": "58476010-6818-4d2b-8325-c3b33689e0d1"
      },
      "source": [
        "im, _ = prepare_data(1,2)\n",
        "imshow(im[0])"
      ],
      "execution_count": 48,
      "outputs": [
        {
          "output_type": "display_data",
          "data": {
            "image/png": "[encoded data removed]",
            "text/plain": [
              "<Figure size 432x288 with 1 Axes>"
            ]
          },
          "metadata": {
            "tags": [],
            "needs_background": "light"
          }
        }
      ]
    },
    {
      "cell_type": "code",
      "metadata": {
        "id": "MTig0vYXsETd",
        "colab_type": "code",
        "colab": {}
      },
      "source": [
        "nz = 64\n",
        "ngf = 64\n",
        "ndf = 64\n",
        "batch_size = 16\n",
        "mask_size = 8\n",
        "# use regular convolution\n",
        "reg_conv = False"
      ],
      "execution_count": 54,
      "outputs": []
    },
    {
      "cell_type": "code",
      "metadata": {
        "id": "0YDljOKjsETf",
        "colab_type": "code",
        "colab": {
          "base_uri": "https://localhost:8080/",
          "height": 86
        },
        "outputId": "aa6eea4c-9aff-4cab-d1b4-1bcc48095bf4"
      },
      "source": [
        "netG = G(ngf, nz).cuda()\n",
        "netD = D(ndf).cuda()\n",
        "netG.apply(weights_init)\n",
        "netD.apply(weights_init)\n",
        "optD = optim.Adam(netD.parameters(),\n",
        "                  lr=2e-4,\n",
        "                  betas=(0.5, 0.999))\n",
        "optG = optim.Adam(netG.parameters(),\n",
        "                  lr=2e-4,\n",
        "                  betas=(0.5, 0.999))\n",
        "criterion_one = nn.BCELoss().cuda()"
      ],
      "execution_count": 60,
      "outputs": [
        {
          "output_type": "stream",
          "text": [
            "/usr/local/lib/python3.6/dist-packages/ipykernel_launcher.py:9: UserWarning: nn.init.orthogonal is now deprecated in favor of nn.init.orthogonal_.\n",
            "  if __name__ == '__main__':\n",
            "/usr/local/lib/python3.6/dist-packages/ipykernel_launcher.py:4: UserWarning: nn.init.orthogonal is now deprecated in favor of nn.init.orthogonal_.\n",
            "  after removing the cwd from sys.path.\n"
          ],
          "name": "stderr"
        }
      ]
    },
    {
      "cell_type": "code",
      "metadata": {
        "id": "kJ56N7rfeAdD",
        "colab_type": "code",
        "colab": {
          "base_uri": "https://localhost:8080/",
          "height": 345
        },
        "outputId": "c20caee5-6284-4b45-995c-639003c4a1fe"
      },
      "source": [
        "max_count = 1001\n",
        "\n",
        "ep = 0\n",
        "netG.train()\n",
        "start_t = time.time()\n",
        "for count in range(1, max_count):\n",
        "    ims, mks = prepare_data(batch_size, mask_size)\n",
        "    if reg_conv:\n",
        "        mks = None\n",
        "\n",
        "    noise = Variable(torch.FloatTensor(batch_size, nz)).cuda()\n",
        "    noise.data.normal_(0, 1)\n",
        "    fake_ims = netG(noise)\n",
        "    \n",
        "    # train D    \n",
        "    netD.zero_grad()\n",
        "    real_logits, _ = netD(ims, mks)\n",
        "    fake_logits, _ = netD(fake_ims.detach())\n",
        "    fake_labels = torch.zeros_like(fake_logits)\n",
        "    real_labels = torch.ones_like(real_logits)\n",
        "    errD_real = criterion_one(real_logits, real_labels) # Real/Fake loss for the real image\n",
        "    # print(errD_real)\n",
        "    errD_fake = criterion_one(fake_logits, fake_labels) # Real/Fake loss for the fake image\n",
        "    # print(errD_fake)\n",
        "    errD = errD_real + errD_fake\n",
        "    errD.backward()\n",
        "    optD.step()\n",
        "    \n",
        "    # train G\n",
        "    netG.zero_grad()\n",
        "    netD.zero_grad()\n",
        "    # _, mks = prepare_data(batch_size, -1)\n",
        "    fake_logits, _ = netD(fake_ims)\n",
        "    real_labels = torch.ones_like(fake_logits)\n",
        "    errG = criterion_one(fake_logits, real_labels)\n",
        "    errG.backward()\n",
        "    optG.step()\n",
        "    \n",
        "    if count % 100 == 0:\n",
        "        ep += 1\n",
        "        end_t = time.time()\n",
        "        print('[%d/%d]Loss_D: %.2f Loss_G: %.2f Time: %.2fs'\n",
        "              % (ep, int(max_count/100),\n",
        "                errD.item(), errG.item(),\n",
        "                end_t - start_t))\n",
        "        imshow(fake_ims)\n",
        "        start_t = time.time()"
      ],
      "execution_count": 61,
      "outputs": [
        {
          "output_type": "stream",
          "text": [
            "/usr/local/lib/python3.6/dist-packages/torch/nn/functional.py:1625: UserWarning: nn.functional.sigmoid is deprecated. Use torch.sigmoid instead.\n",
            "  warnings.warn(\"nn.functional.sigmoid is deprecated. Use torch.sigmoid instead.\")\n"
          ],
          "name": "stderr"
        },
        {
          "output_type": "stream",
          "text": [
            "[1/10]Loss_D: 0.96 Loss_G: 0.90 Time: 1.41s\n",
            "[2/10]Loss_D: 0.44 Loss_G: 1.98 Time: 1.40s\n",
            "[3/10]Loss_D: 0.21 Loss_G: 2.27 Time: 1.43s\n",
            "[4/10]Loss_D: 0.25 Loss_G: 1.83 Time: 1.42s\n",
            "[5/10]Loss_D: 0.22 Loss_G: 1.83 Time: 1.43s\n",
            "[6/10]Loss_D: 0.18 Loss_G: 1.90 Time: 1.42s\n",
            "[7/10]Loss_D: 0.15 Loss_G: 2.19 Time: 1.44s\n",
            "[8/10]Loss_D: 0.18 Loss_G: 1.90 Time: 1.42s\n",
            "[9/10]Loss_D: 0.16 Loss_G: 2.06 Time: 1.46s\n",
            "[10/10]Loss_D: 0.14 Loss_G: 2.27 Time: 1.44s\n"
          ],
          "name": "stdout"
        },
        {
          "output_type": "display_data",
          "data": {
            "image/png": "[encoded data removed]",
            "text/plain": [
              "<Figure size 432x288 with 1 Axes>"
            ]
          },
          "metadata": {
            "tags": [],
            "needs_background": "light"
          }
        }
      ]
    },
    {
      "cell_type": "code",
      "metadata": {
        "scrolled": true,
        "id": "teRL9B0wsETk",
        "colab_type": "code",
        "colab": {
          "base_uri": "https://localhost:8080/",
          "height": 351
        },
        "outputId": "0f74e6cd-d096-47cd-db1c-06a407d02e95"
      },
      "source": [
        "netG.eval()\n",
        "_noise = Variable(torch.FloatTensor(batch_size, nz)).cuda()\n",
        "_noise.data.normal_(0, 1)\n",
        "imshow(netG(_noise)[0])\n",
        "rfs, xcl = netD(netG(_noise))\n",
        "rfs"
      ],
      "execution_count": 62,
      "outputs": [
        {
          "output_type": "stream",
          "text": [
            "/usr/local/lib/python3.6/dist-packages/torch/nn/functional.py:1625: UserWarning: nn.functional.sigmoid is deprecated. Use torch.sigmoid instead.\n",
            "  warnings.warn(\"nn.functional.sigmoid is deprecated. Use torch.sigmoid instead.\")\n"
          ],
          "name": "stderr"
        },
        {
          "output_type": "execute_result",
          "data": {
            "text/plain": [
              "tensor([0.1865, 0.1683, 0.1865, 0.1559, 0.1966, 0.0072, 0.1901, 0.0684, 0.0834,\n",
              "        0.1045, 0.1289, 0.1598, 0.1867, 0.1162, 0.1906, 0.1977],\n",
              "       device='cuda:0', grad_fn=<ViewBackward>)"
            ]
          },
          "metadata": {
            "tags": []
          },
          "execution_count": 62
        },
        {
          "output_type": "display_data",
          "data": {
            "image/png": "[encoded data removed]",
            "text/plain": [
              "<Figure size 432x288 with 1 Axes>"
            ]
          },
          "metadata": {
            "tags": [],
            "needs_background": "light"
          }
        }
      ]
    },
    {
      "cell_type": "code",
      "metadata": {
        "id": "l5KK61Zuoakj",
        "colab_type": "code",
        "colab": {
          "base_uri": "https://localhost:8080/",
          "height": 351
        },
        "outputId": "0c6103e3-7845-41f3-bd96-b4597860cb64"
      },
      "source": [
        "im, mk = prepare_data(batch_size, 8)\n",
        "imshow(im[0])\n",
        "rfs, xcl = netD(im, mk)\n",
        "rfs"
      ],
      "execution_count": 64,
      "outputs": [
        {
          "output_type": "stream",
          "text": [
            "/usr/local/lib/python3.6/dist-packages/torch/nn/functional.py:1625: UserWarning: nn.functional.sigmoid is deprecated. Use torch.sigmoid instead.\n",
            "  warnings.warn(\"nn.functional.sigmoid is deprecated. Use torch.sigmoid instead.\")\n"
          ],
          "name": "stderr"
        },
        {
          "output_type": "execute_result",
          "data": {
            "text/plain": [
              "tensor([1.0000, 0.9999, 0.9976, 0.9994, 0.9997, 1.0000, 1.0000, 0.9996, 0.9945,\n",
              "        0.9995, 1.0000, 1.0000, 0.9999, 0.9999, 0.9999, 1.0000],\n",
              "       device='cuda:0', grad_fn=<ViewBackward>)"
            ]
          },
          "metadata": {
            "tags": []
          },
          "execution_count": 64
        },
        {
          "output_type": "display_data",
          "data": {
            "image/png": "[encoded data removed]",
            "text/plain": [
              "<Figure size 432x288 with 1 Axes>"
            ]
          },
          "metadata": {
            "tags": [],
            "needs_background": "light"
          }
        }
      ]
    },
    {
      "cell_type": "code",
      "metadata": {
        "id": "dkItoVL_sETm",
        "colab_type": "code",
        "colab": {
          "base_uri": "https://localhost:8080/",
          "height": 118
        },
        "outputId": "9c7ca1be-3ee4-4eca-d803-05dc5a367e6f"
      },
      "source": [
        "conv2d = PartialConv2d(3, 1, 3, 2, 0, bias=False)\n",
        "conv = PartialConv(3, 1, 3, 2, 0, bias=False)\n",
        "conv.input_conv.weight = conv2d.weight\n",
        "nn.init.constant(conv.mask_conv.weight, 1)"
      ],
      "execution_count": null,
      "outputs": [
        {
          "output_type": "stream",
          "text": [
            "/usr/local/lib/python3.6/dist-packages/ipykernel_launcher.py:4: UserWarning: nn.init.constant is now deprecated in favor of nn.init.constant_.\n",
            "  after removing the cwd from sys.path.\n"
          ],
          "name": "stderr"
        },
        {
          "output_type": "execute_result",
          "data": {
            "text/plain": [
              "Parameter containing:\n",
              "tensor([[[[1., 1., 1.],\n",
              "          [1., 1., 1.],\n",
              "          [1., 1., 1.]]]])"
            ]
          },
          "metadata": {
            "tags": []
          },
          "execution_count": 23
        }
      ]
    },
    {
      "cell_type": "code",
      "metadata": {
        "id": "S9bRpEsL2B-G",
        "colab_type": "code",
        "colab": {}
      },
      "source": [
        "L = nn.BCELoss()"
      ],
      "execution_count": null,
      "outputs": []
    },
    {
      "cell_type": "code",
      "metadata": {
        "id": "Q-Sd9dKdqIzp",
        "colab_type": "code",
        "colab": {
          "base_uri": "https://localhost:8080/",
          "height": 52
        },
        "outputId": "a82ed7e7-9f04-420f-dd33-33b110247e4b"
      },
      "source": [
        "# x = torch.zeros(1)\n",
        "x = torch.tensor([0.])\n",
        "y = torch.ones(1)\n",
        "print(x, y)\n",
        "print(L(x, y))"
      ],
      "execution_count": null,
      "outputs": [
        {
          "output_type": "stream",
          "text": [
            "tensor([0.]) tensor([1.])\n",
            "tensor(100.)\n"
          ],
          "name": "stdout"
        }
      ]
    },
    {
      "cell_type": "code",
      "metadata": {
        "id": "5lBgee6RR6c_",
        "colab_type": "code",
        "colab": {
          "base_uri": "https://localhost:8080/",
          "height": 35
        },
        "outputId": "dabe0a91-47ed-447a-f6df-880518a2ae02"
      },
      "source": [
        "L(x, y)"
      ],
      "execution_count": null,
      "outputs": [
        {
          "output_type": "execute_result",
          "data": {
            "text/plain": [
              "tensor(100.)"
            ]
          },
          "metadata": {
            "tags": []
          },
          "execution_count": 69
        }
      ]
    },
    {
      "cell_type": "code",
      "metadata": {
        "id": "Cab_xVcFSCvW",
        "colab_type": "code",
        "colab": {
          "base_uri": "https://localhost:8080/",
          "height": 1000
        },
        "outputId": "2410c019-a5a9-46eb-ad08-1f812b307844"
      },
      "source": [
        "netG(_noise)[0]"
      ],
      "execution_count": null,
      "outputs": [
        {
          "output_type": "execute_result",
          "data": {
            "text/plain": [
              "tensor([[[ 0.9996,  1.0000,  1.0000,  1.0000,  1.0000,  1.0000,  1.0000,\n",
              "           1.0000,  1.0000,  1.0000,  1.0000,  1.0000,  1.0000,  1.0000,\n",
              "           1.0000,  0.9997],\n",
              "         [ 1.0000,  1.0000,  1.0000,  1.0000,  1.0000,  1.0000,  1.0000,\n",
              "           1.0000,  1.0000,  1.0000,  1.0000,  1.0000,  1.0000,  1.0000,\n",
              "           1.0000,  0.9999],\n",
              "         [ 0.9990,  1.0000,  1.0000,  1.0000,  1.0000,  1.0000,  1.0000,\n",
              "           1.0000,  1.0000,  0.9999,  0.9998,  0.9995,  1.0000,  1.0000,\n",
              "           1.0000,  0.9994],\n",
              "         [ 0.9843,  0.9986,  1.0000,  1.0000,  1.0000,  1.0000,  1.0000,\n",
              "           1.0000,  1.0000,  0.9998,  0.9993,  0.9983,  1.0000,  1.0000,\n",
              "           1.0000,  0.9998],\n",
              "         [ 0.9648,  0.9737,  0.9994,  1.0000,  1.0000,  1.0000,  1.0000,\n",
              "           1.0000,  1.0000,  0.9999,  0.9987,  0.9943,  1.0000,  1.0000,\n",
              "           1.0000,  0.9995],\n",
              "         [ 0.9987,  0.9973,  0.9994,  0.9998,  1.0000,  1.0000,  1.0000,\n",
              "           1.0000,  1.0000,  0.9998,  0.9965,  0.9903,  0.9999,  1.0000,\n",
              "           1.0000,  0.9984],\n",
              "         [ 0.9999,  0.9996,  0.9989,  0.9952,  0.9985,  0.9993,  0.9995,\n",
              "           0.9998,  0.9997,  0.9996,  0.9943,  0.9872,  0.9999,  1.0000,\n",
              "           1.0000,  0.9954],\n",
              "         [ 0.9999,  0.9997,  0.9982,  0.9834,  0.9724,  0.9602,  0.9783,\n",
              "           0.9949,  0.9992,  0.9996,  0.9973,  0.9930,  0.9999,  1.0000,\n",
              "           1.0000,  0.9862],\n",
              "         [ 1.0000,  1.0000,  0.9999,  0.9990,  0.9868,  0.8432,  0.9096,\n",
              "           0.9628,  0.9961,  0.9994,  0.9986,  0.9982,  1.0000,  1.0000,\n",
              "           1.0000,  0.9933],\n",
              "         [ 0.9999,  1.0000,  1.0000,  1.0000,  0.9999,  0.9961,  0.9973,\n",
              "           0.9962,  0.9995,  0.9999,  0.9997,  0.9989,  1.0000,  1.0000,\n",
              "           1.0000,  0.9975],\n",
              "         [ 0.9974,  0.9997,  1.0000,  1.0000,  1.0000,  1.0000,  1.0000,\n",
              "           0.9992,  0.9992,  0.9996,  0.9986,  0.9961,  1.0000,  1.0000,\n",
              "           1.0000,  0.9984],\n",
              "         [ 0.9789,  0.9989,  1.0000,  1.0000,  1.0000,  1.0000,  1.0000,\n",
              "           0.9979,  0.9299,  0.7137,  0.5622,  0.6042,  0.9993,  1.0000,\n",
              "           1.0000,  0.9989],\n",
              "         [ 0.9780,  0.9938,  0.9999,  1.0000,  1.0000,  1.0000,  1.0000,\n",
              "           0.9993,  0.7205, -0.5531, -0.6078, -0.2486,  0.9909,  0.9999,\n",
              "           1.0000,  0.9955],\n",
              "         [ 1.0000,  1.0000,  1.0000,  1.0000,  1.0000,  1.0000,  1.0000,\n",
              "           1.0000,  0.9962,  0.9478,  0.9739,  0.9918,  1.0000,  1.0000,\n",
              "           1.0000,  0.9962],\n",
              "         [ 1.0000,  1.0000,  1.0000,  0.9999,  0.9999,  1.0000,  1.0000,\n",
              "           1.0000,  1.0000,  0.9999,  0.9999,  1.0000,  1.0000,  1.0000,\n",
              "           1.0000,  0.9759],\n",
              "         [ 1.0000,  1.0000,  0.9998, -0.0708,  0.0966,  0.9870,  0.9994,\n",
              "           1.0000,  0.9998,  0.9988,  0.9954,  0.9944,  0.9971,  0.9749,\n",
              "           0.8852, -0.1817]],\n",
              "\n",
              "        [[-0.9995, -1.0000, -1.0000, -1.0000, -1.0000, -1.0000, -1.0000,\n",
              "          -1.0000, -1.0000, -1.0000, -1.0000, -1.0000, -1.0000, -1.0000,\n",
              "          -1.0000, -0.9995],\n",
              "         [-1.0000, -1.0000, -1.0000, -1.0000, -1.0000, -1.0000, -1.0000,\n",
              "          -1.0000, -1.0000, -1.0000, -1.0000, -1.0000, -1.0000, -1.0000,\n",
              "          -1.0000, -0.9998],\n",
              "         [-0.9991, -1.0000, -1.0000, -1.0000, -1.0000, -1.0000, -1.0000,\n",
              "          -1.0000, -1.0000, -0.9998, -0.9998, -0.9994, -1.0000, -1.0000,\n",
              "          -1.0000, -0.9992],\n",
              "         [-0.9842, -0.9986, -1.0000, -1.0000, -1.0000, -1.0000, -1.0000,\n",
              "          -1.0000, -1.0000, -0.9997, -0.9992, -0.9979, -1.0000, -1.0000,\n",
              "          -1.0000, -0.9996],\n",
              "         [-0.9631, -0.9751, -0.9994, -1.0000, -1.0000, -1.0000, -1.0000,\n",
              "          -1.0000, -1.0000, -0.9999, -0.9986, -0.9936, -1.0000, -1.0000,\n",
              "          -1.0000, -0.9992],\n",
              "         [-0.9986, -0.9974, -0.9994, -0.9998, -1.0000, -1.0000, -1.0000,\n",
              "          -1.0000, -1.0000, -0.9998, -0.9963, -0.9888, -0.9999, -1.0000,\n",
              "          -1.0000, -0.9978],\n",
              "         [-0.9999, -0.9996, -0.9988, -0.9947, -0.9982, -0.9993, -0.9995,\n",
              "          -0.9998, -0.9997, -0.9995, -0.9937, -0.9848, -0.9999, -1.0000,\n",
              "          -1.0000, -0.9931],\n",
              "         [-0.9999, -0.9998, -0.9978, -0.9807, -0.9699, -0.9556, -0.9791,\n",
              "          -0.9950, -0.9990, -0.9995, -0.9966, -0.9917, -0.9998, -1.0000,\n",
              "          -1.0000, -0.9812],\n",
              "         [-1.0000, -1.0000, -0.9999, -0.9988, -0.9841, -0.8381, -0.8985,\n",
              "          -0.9578, -0.9963, -0.9993, -0.9983, -0.9977, -1.0000, -1.0000,\n",
              "          -1.0000, -0.9902],\n",
              "         [-0.9999, -1.0000, -0.9999, -1.0000, -0.9998, -0.9956, -0.9969,\n",
              "          -0.9961, -0.9995, -0.9999, -0.9996, -0.9985, -1.0000, -1.0000,\n",
              "          -1.0000, -0.9962],\n",
              "         [-0.9975, -0.9998, -1.0000, -1.0000, -1.0000, -1.0000, -1.0000,\n",
              "          -0.9989, -0.9992, -0.9995, -0.9988, -0.9965, -1.0000, -1.0000,\n",
              "          -1.0000, -0.9977],\n",
              "         [-0.9829, -0.9989, -1.0000, -1.0000, -1.0000, -1.0000, -1.0000,\n",
              "          -0.9977, -0.9388, -0.7402, -0.5829, -0.6068, -0.9991, -1.0000,\n",
              "          -1.0000, -0.9984],\n",
              "         [-0.9772, -0.9935, -0.9999, -1.0000, -1.0000, -1.0000, -1.0000,\n",
              "          -0.9993, -0.7124,  0.5574,  0.6046,  0.2511, -0.9906, -0.9999,\n",
              "          -1.0000, -0.9941],\n",
              "         [-1.0000, -1.0000, -1.0000, -1.0000, -1.0000, -1.0000, -1.0000,\n",
              "          -1.0000, -0.9962, -0.9456, -0.9730, -0.9909, -0.9999, -1.0000,\n",
              "          -1.0000, -0.9948],\n",
              "         [-1.0000, -1.0000, -1.0000, -0.9999, -0.9999, -1.0000, -1.0000,\n",
              "          -1.0000, -1.0000, -0.9999, -0.9999, -1.0000, -1.0000, -1.0000,\n",
              "          -1.0000, -0.9701],\n",
              "         [-1.0000, -1.0000, -0.9999,  0.0807, -0.0999, -0.9887, -0.9994,\n",
              "          -1.0000, -0.9999, -0.9990, -0.9965, -0.9960, -0.9985, -0.9830,\n",
              "          -0.9026,  0.1771]],\n",
              "\n",
              "        [[-0.9997, -1.0000, -1.0000, -1.0000, -1.0000, -1.0000, -1.0000,\n",
              "          -1.0000, -1.0000, -1.0000, -1.0000, -1.0000, -1.0000, -1.0000,\n",
              "          -1.0000, -0.9998],\n",
              "         [-1.0000, -1.0000, -1.0000, -1.0000, -1.0000, -1.0000, -1.0000,\n",
              "          -1.0000, -1.0000, -1.0000, -1.0000, -1.0000, -1.0000, -1.0000,\n",
              "          -1.0000, -0.9999],\n",
              "         [-0.9991, -1.0000, -1.0000, -1.0000, -1.0000, -1.0000, -1.0000,\n",
              "          -1.0000, -1.0000, -0.9999, -0.9998, -0.9996, -1.0000, -1.0000,\n",
              "          -1.0000, -0.9996],\n",
              "         [-0.9850, -0.9987, -1.0000, -1.0000, -1.0000, -1.0000, -1.0000,\n",
              "          -1.0000, -1.0000, -0.9998, -0.9994, -0.9984, -1.0000, -1.0000,\n",
              "          -1.0000, -0.9998],\n",
              "         [-0.9689, -0.9737, -0.9994, -1.0000, -1.0000, -1.0000, -1.0000,\n",
              "          -1.0000, -1.0000, -0.9999, -0.9988, -0.9950, -1.0000, -1.0000,\n",
              "          -1.0000, -0.9996],\n",
              "         [-0.9989, -0.9976, -0.9995, -0.9998, -1.0000, -1.0000, -1.0000,\n",
              "          -1.0000, -1.0000, -0.9998, -0.9968, -0.9908, -1.0000, -1.0000,\n",
              "          -1.0000, -0.9990],\n",
              "         [-0.9999, -0.9996, -0.9990, -0.9949, -0.9986, -0.9994, -0.9996,\n",
              "          -0.9998, -0.9998, -0.9997, -0.9953, -0.9884, -0.9999, -1.0000,\n",
              "          -1.0000, -0.9967],\n",
              "         [-0.9999, -0.9997, -0.9981, -0.9821, -0.9715, -0.9565, -0.9789,\n",
              "          -0.9957, -0.9994, -0.9997, -0.9981, -0.9944, -0.9999, -1.0000,\n",
              "          -1.0000, -0.9896],\n",
              "         [-1.0000, -1.0000, -1.0000, -0.9992, -0.9862, -0.8354, -0.9030,\n",
              "          -0.9650, -0.9966, -0.9995, -0.9989, -0.9984, -1.0000, -1.0000,\n",
              "          -1.0000, -0.9956],\n",
              "         [-0.9999, -1.0000, -1.0000, -1.0000, -0.9999, -0.9961, -0.9970,\n",
              "          -0.9966, -0.9996, -0.9999, -0.9998, -0.9990, -1.0000, -1.0000,\n",
              "          -1.0000, -0.9982],\n",
              "         [-0.9971, -0.9997, -1.0000, -1.0000, -1.0000, -1.0000, -1.0000,\n",
              "          -0.9992, -0.9992, -0.9996, -0.9989, -0.9968, -1.0000, -1.0000,\n",
              "          -1.0000, -0.9989],\n",
              "         [-0.9801, -0.9991, -1.0000, -1.0000, -1.0000, -1.0000, -1.0000,\n",
              "          -0.9976, -0.9181, -0.6763, -0.5062, -0.5977, -0.9994, -1.0000,\n",
              "          -1.0000, -0.9993],\n",
              "         [-0.9801, -0.9931, -0.9999, -1.0000, -1.0000, -1.0000, -1.0000,\n",
              "          -0.9995, -0.7154,  0.6048,  0.6392,  0.2719, -0.9921, -0.9999,\n",
              "          -1.0000, -0.9969],\n",
              "         [-1.0000, -1.0000, -1.0000, -1.0000, -1.0000, -1.0000, -1.0000,\n",
              "          -1.0000, -0.9968, -0.9488, -0.9724, -0.9921, -1.0000, -1.0000,\n",
              "          -1.0000, -0.9977],\n",
              "         [-1.0000, -1.0000, -1.0000, -0.9999, -0.9999, -1.0000, -1.0000,\n",
              "          -1.0000, -1.0000, -0.9999, -1.0000, -1.0000, -1.0000, -1.0000,\n",
              "          -1.0000, -0.9823],\n",
              "         [-1.0000, -1.0000, -0.9998,  0.0886, -0.0605, -0.9857, -0.9995,\n",
              "          -1.0000, -0.9998, -0.9987, -0.9948, -0.9935, -0.9966, -0.9697,\n",
              "          -0.8780,  0.1808]]], device='cuda:0', grad_fn=<SelectBackward>)"
            ]
          },
          "metadata": {
            "tags": []
          },
          "execution_count": 46
        }
      ]
    },
    {
      "cell_type": "code",
      "metadata": {
        "id": "SEZ098DZ9GKt",
        "colab_type": "code",
        "colab": {
          "base_uri": "https://localhost:8080/",
          "height": 69
        },
        "outputId": "8565ae15-96eb-4db3-e7ef-a391d6ce630f"
      },
      "source": [
        "input = torch.ones(1,1,3,3)\n",
        "kernel = torch.ones(1,1,3,3)\n",
        "input[0,0,1:3,1:3] = 0\n",
        "input"
      ],
      "execution_count": null,
      "outputs": [
        {
          "output_type": "execute_result",
          "data": {
            "text/plain": [
              "tensor([[[[1., 1., 1.],\n",
              "          [1., 0., 0.],\n",
              "          [1., 0., 0.]]]])"
            ]
          },
          "metadata": {
            "tags": []
          },
          "execution_count": 5
        }
      ]
    },
    {
      "cell_type": "code",
      "metadata": {
        "id": "OBSY3bSMsHjj",
        "colab_type": "code",
        "colab": {
          "base_uri": "https://localhost:8080/",
          "height": 35
        },
        "outputId": "1d1e6c86-480a-46a6-86ab-c02e7dbfae75"
      },
      "source": [
        "F.conv2d(input, kernel)"
      ],
      "execution_count": null,
      "outputs": [
        {
          "output_type": "execute_result",
          "data": {
            "text/plain": [
              "tensor([[[[5.]]]])"
            ]
          },
          "metadata": {
            "tags": []
          },
          "execution_count": 6
        }
      ]
    },
    {
      "cell_type": "code",
      "metadata": {
        "id": "GrLguO43sKBt",
        "colab_type": "code",
        "colab": {
          "base_uri": "https://localhost:8080/",
          "height": 124
        },
        "outputId": "ad8cac70-247b-47a4-db74-0fefabe32e8b"
      },
      "source": [
        "conv2d = PartialConv2d(1, 1, 3, 1, 0, bias=False)\n",
        "nn.init.constant(conv2d.weight,1)\n",
        "input = torch.ones(1,1,3,3)\n",
        "mask = torch.ones(1,1,3,3)\n",
        "mask[0,0,1:3,1:3] = 0\n",
        "mask"
      ],
      "execution_count": null,
      "outputs": [
        {
          "output_type": "stream",
          "text": [
            "/usr/local/lib/python3.6/dist-packages/ipykernel_launcher.py:2: UserWarning: nn.init.constant is now deprecated in favor of nn.init.constant_.\n",
            "  \n"
          ],
          "name": "stderr"
        },
        {
          "output_type": "execute_result",
          "data": {
            "text/plain": [
              "tensor([[[[1., 1., 1.],\n",
              "          [1., 0., 0.],\n",
              "          [1., 0., 0.]]]])"
            ]
          },
          "metadata": {
            "tags": []
          },
          "execution_count": 15
        }
      ]
    },
    {
      "cell_type": "code",
      "metadata": {
        "id": "HThXgipTuLej",
        "colab_type": "code",
        "colab": {
          "base_uri": "https://localhost:8080/",
          "height": 35
        },
        "outputId": "1315a85b-3051-4375-ed45-1c1703311011"
      },
      "source": [
        "conv2d(input, mask)"
      ],
      "execution_count": null,
      "outputs": [
        {
          "output_type": "execute_result",
          "data": {
            "text/plain": [
              "(tensor([[[[9.]]]], grad_fn=<MulBackward0>), tensor([[[[1.]]]]))"
            ]
          },
          "metadata": {
            "tags": []
          },
          "execution_count": 16
        }
      ]
    },
    {
      "cell_type": "code",
      "metadata": {
        "id": "R9hJ8CGSuQE9",
        "colab_type": "code",
        "colab": {
          "base_uri": "https://localhost:8080/",
          "height": 35
        },
        "outputId": "27406e37-6849-482d-fd12-4fc4423c6293"
      },
      "source": [
        "conv2d(mask, input)"
      ],
      "execution_count": null,
      "outputs": [
        {
          "output_type": "execute_result",
          "data": {
            "text/plain": [
              "(tensor([[[[5.]]]], grad_fn=<MulBackward0>), tensor([[[[1.]]]]))"
            ]
          },
          "metadata": {
            "tags": []
          },
          "execution_count": 20
        }
      ]
    },
    {
      "cell_type": "code",
      "metadata": {
        "id": "mJwLPFQZuuUU",
        "colab_type": "code",
        "colab": {}
      },
      "source": [
        "fm = xcl[0][0][0].detach().cpu().numpy()"
      ],
      "execution_count": 66,
      "outputs": []
    },
    {
      "cell_type": "code",
      "metadata": {
        "id": "hrNPHW19uwpO",
        "colab_type": "code",
        "colab": {
          "base_uri": "https://localhost:8080/",
          "height": 282
        },
        "outputId": "d8ef4f46-c71f-41f0-92fa-b4eb4963d114"
      },
      "source": [
        "sns.heatmap(fm, cmap='coolwarm')"
      ],
      "execution_count": 68,
      "outputs": [
        {
          "output_type": "execute_result",
          "data": {
            "text/plain": [
              "<matplotlib.axes._subplots.AxesSubplot at 0x7f51b98e65c0>"
            ]
          },
          "metadata": {
            "tags": []
          },
          "execution_count": 68
        },
        {
          "output_type": "display_data",
          "data": {
            "image/png": "[encoded data removed]",
            "text/plain": [
              "<Figure size 432x288 with 2 Axes>"
            ]
          },
          "metadata": {
            "tags": [],
            "needs_background": "light"
          }
        }
      ]
    },
    {
      "cell_type": "code",
      "metadata": {
        "id": "541U32iyOPfs",
        "colab_type": "code",
        "colab": {}
      },
      "source": [
        "def vis_actmap(actmaps):\n",
        "    _im = torchvision.utils.make_grid(actmaps, pad_value=-1).detach().cpu().numpy()\n",
        "    print(_im.shape)\n",
        "    sns.heatmap(_im, cmap='coolwarm')\n",
        "\n",
        "    # plt.imshow(_im)"
      ],
      "execution_count": 73,
      "outputs": []
    },
    {
      "cell_type": "code",
      "metadata": {
        "id": "_hxQzBBKO50U",
        "colab_type": "code",
        "colab": {
          "base_uri": "https://localhost:8080/",
          "height": 327
        },
        "outputId": "af05aa01-1167-49e4-8663-62712af7ca4e"
      },
      "source": [
        "vis_actmap(xcl[0])"
      ],
      "execution_count": 74,
      "outputs": [
        {
          "output_type": "stream",
          "text": [
            "(16, 38, 146)\n"
          ],
          "name": "stdout"
        },
        {
          "output_type": "error",
          "ename": "ValueError",
          "evalue": "ignored",
          "traceback": [
            "\u001b[0;31m---------------------------------------------------------------------------\u001b[0m",
            "\u001b[0;31mValueError\u001b[0m                                Traceback (most recent call last)",
            "\u001b[0;32m<ipython-input-74-e61267b74da3>\u001b[0m in \u001b[0;36m<module>\u001b[0;34m()\u001b[0m\n\u001b[0;32m----> 1\u001b[0;31m \u001b[0mvis_actmap\u001b[0m\u001b[0;34m(\u001b[0m\u001b[0mxcl\u001b[0m\u001b[0;34m[\u001b[0m\u001b[0;36m0\u001b[0m\u001b[0;34m]\u001b[0m\u001b[0;34m)\u001b[0m\u001b[0;34m\u001b[0m\u001b[0;34m\u001b[0m\u001b[0m\n\u001b[0m",
            "\u001b[0;32m<ipython-input-73-8a3560a80a89>\u001b[0m in \u001b[0;36mvis_actmap\u001b[0;34m(actmaps)\u001b[0m\n\u001b[1;32m      2\u001b[0m     \u001b[0m_im\u001b[0m \u001b[0;34m=\u001b[0m \u001b[0mtorchvision\u001b[0m\u001b[0;34m.\u001b[0m\u001b[0mutils\u001b[0m\u001b[0;34m.\u001b[0m\u001b[0mmake_grid\u001b[0m\u001b[0;34m(\u001b[0m\u001b[0mactmaps\u001b[0m\u001b[0;34m,\u001b[0m \u001b[0mpad_value\u001b[0m\u001b[0;34m=\u001b[0m\u001b[0;34m-\u001b[0m\u001b[0;36m1\u001b[0m\u001b[0;34m)\u001b[0m\u001b[0;34m.\u001b[0m\u001b[0mdetach\u001b[0m\u001b[0;34m(\u001b[0m\u001b[0;34m)\u001b[0m\u001b[0;34m.\u001b[0m\u001b[0mcpu\u001b[0m\u001b[0;34m(\u001b[0m\u001b[0;34m)\u001b[0m\u001b[0;34m.\u001b[0m\u001b[0mnumpy\u001b[0m\u001b[0;34m(\u001b[0m\u001b[0;34m)\u001b[0m\u001b[0;34m\u001b[0m\u001b[0;34m\u001b[0m\u001b[0m\n\u001b[1;32m      3\u001b[0m     \u001b[0mprint\u001b[0m\u001b[0;34m(\u001b[0m\u001b[0m_im\u001b[0m\u001b[0;34m.\u001b[0m\u001b[0mshape\u001b[0m\u001b[0;34m)\u001b[0m\u001b[0;34m\u001b[0m\u001b[0;34m\u001b[0m\u001b[0m\n\u001b[0;32m----> 4\u001b[0;31m     \u001b[0msns\u001b[0m\u001b[0;34m.\u001b[0m\u001b[0mheatmap\u001b[0m\u001b[0;34m(\u001b[0m\u001b[0m_im\u001b[0m\u001b[0;34m,\u001b[0m \u001b[0mcmap\u001b[0m\u001b[0;34m=\u001b[0m\u001b[0;34m'coolwarm'\u001b[0m\u001b[0;34m)\u001b[0m\u001b[0;34m\u001b[0m\u001b[0;34m\u001b[0m\u001b[0m\n\u001b[0m\u001b[1;32m      5\u001b[0m \u001b[0;34m\u001b[0m\u001b[0m\n\u001b[1;32m      6\u001b[0m     \u001b[0;31m# plt.imshow(_im)\u001b[0m\u001b[0;34m\u001b[0m\u001b[0;34m\u001b[0m\u001b[0;34m\u001b[0m\u001b[0m\n",
            "\u001b[0;32m/usr/local/lib/python3.6/dist-packages/seaborn/matrix.py\u001b[0m in \u001b[0;36mheatmap\u001b[0;34m(data, vmin, vmax, cmap, center, robust, annot, fmt, annot_kws, linewidths, linecolor, cbar, cbar_kws, cbar_ax, square, xticklabels, yticklabels, mask, ax, **kwargs)\u001b[0m\n\u001b[1;32m    535\u001b[0m     plotter = _HeatMapper(data, vmin, vmax, cmap, center, robust, annot, fmt,\n\u001b[1;32m    536\u001b[0m                           \u001b[0mannot_kws\u001b[0m\u001b[0;34m,\u001b[0m \u001b[0mcbar\u001b[0m\u001b[0;34m,\u001b[0m \u001b[0mcbar_kws\u001b[0m\u001b[0;34m,\u001b[0m \u001b[0mxticklabels\u001b[0m\u001b[0;34m,\u001b[0m\u001b[0;34m\u001b[0m\u001b[0;34m\u001b[0m\u001b[0m\n\u001b[0;32m--> 537\u001b[0;31m                           yticklabels, mask)\n\u001b[0m\u001b[1;32m    538\u001b[0m \u001b[0;34m\u001b[0m\u001b[0m\n\u001b[1;32m    539\u001b[0m     \u001b[0;31m# Add the pcolormesh kwargs here\u001b[0m\u001b[0;34m\u001b[0m\u001b[0;34m\u001b[0m\u001b[0;34m\u001b[0m\u001b[0m\n",
            "\u001b[0;32m/usr/local/lib/python3.6/dist-packages/seaborn/matrix.py\u001b[0m in \u001b[0;36m__init__\u001b[0;34m(self, data, vmin, vmax, cmap, center, robust, annot, fmt, annot_kws, cbar, cbar_kws, xticklabels, yticklabels, mask)\u001b[0m\n\u001b[1;32m    106\u001b[0m         \u001b[0;32melse\u001b[0m\u001b[0;34m:\u001b[0m\u001b[0;34m\u001b[0m\u001b[0;34m\u001b[0m\u001b[0m\n\u001b[1;32m    107\u001b[0m             \u001b[0mplot_data\u001b[0m \u001b[0;34m=\u001b[0m \u001b[0mnp\u001b[0m\u001b[0;34m.\u001b[0m\u001b[0masarray\u001b[0m\u001b[0;34m(\u001b[0m\u001b[0mdata\u001b[0m\u001b[0;34m)\u001b[0m\u001b[0;34m\u001b[0m\u001b[0;34m\u001b[0m\u001b[0m\n\u001b[0;32m--> 108\u001b[0;31m             \u001b[0mdata\u001b[0m \u001b[0;34m=\u001b[0m \u001b[0mpd\u001b[0m\u001b[0;34m.\u001b[0m\u001b[0mDataFrame\u001b[0m\u001b[0;34m(\u001b[0m\u001b[0mplot_data\u001b[0m\u001b[0;34m)\u001b[0m\u001b[0;34m\u001b[0m\u001b[0;34m\u001b[0m\u001b[0m\n\u001b[0m\u001b[1;32m    109\u001b[0m \u001b[0;34m\u001b[0m\u001b[0m\n\u001b[1;32m    110\u001b[0m         \u001b[0;31m# Validate the mask and convet to DataFrame\u001b[0m\u001b[0;34m\u001b[0m\u001b[0;34m\u001b[0m\u001b[0;34m\u001b[0m\u001b[0m\n",
            "\u001b[0;32m/usr/local/lib/python3.6/dist-packages/pandas/core/frame.py\u001b[0m in \u001b[0;36m__init__\u001b[0;34m(self, data, index, columns, dtype, copy)\u001b[0m\n\u001b[1;32m    462\u001b[0m                 \u001b[0mmgr\u001b[0m \u001b[0;34m=\u001b[0m \u001b[0minit_dict\u001b[0m\u001b[0;34m(\u001b[0m\u001b[0;34m{\u001b[0m\u001b[0mdata\u001b[0m\u001b[0;34m.\u001b[0m\u001b[0mname\u001b[0m\u001b[0;34m:\u001b[0m \u001b[0mdata\u001b[0m\u001b[0;34m}\u001b[0m\u001b[0;34m,\u001b[0m \u001b[0mindex\u001b[0m\u001b[0;34m,\u001b[0m \u001b[0mcolumns\u001b[0m\u001b[0;34m,\u001b[0m \u001b[0mdtype\u001b[0m\u001b[0;34m=\u001b[0m\u001b[0mdtype\u001b[0m\u001b[0;34m)\u001b[0m\u001b[0;34m\u001b[0m\u001b[0;34m\u001b[0m\u001b[0m\n\u001b[1;32m    463\u001b[0m             \u001b[0;32melse\u001b[0m\u001b[0;34m:\u001b[0m\u001b[0;34m\u001b[0m\u001b[0;34m\u001b[0m\u001b[0m\n\u001b[0;32m--> 464\u001b[0;31m                 \u001b[0mmgr\u001b[0m \u001b[0;34m=\u001b[0m \u001b[0minit_ndarray\u001b[0m\u001b[0;34m(\u001b[0m\u001b[0mdata\u001b[0m\u001b[0;34m,\u001b[0m \u001b[0mindex\u001b[0m\u001b[0;34m,\u001b[0m \u001b[0mcolumns\u001b[0m\u001b[0;34m,\u001b[0m \u001b[0mdtype\u001b[0m\u001b[0;34m=\u001b[0m\u001b[0mdtype\u001b[0m\u001b[0;34m,\u001b[0m \u001b[0mcopy\u001b[0m\u001b[0;34m=\u001b[0m\u001b[0mcopy\u001b[0m\u001b[0;34m)\u001b[0m\u001b[0;34m\u001b[0m\u001b[0;34m\u001b[0m\u001b[0m\n\u001b[0m\u001b[1;32m    465\u001b[0m \u001b[0;34m\u001b[0m\u001b[0m\n\u001b[1;32m    466\u001b[0m         \u001b[0;31m# For data is list-like, or Iterable (will consume into list)\u001b[0m\u001b[0;34m\u001b[0m\u001b[0;34m\u001b[0m\u001b[0;34m\u001b[0m\u001b[0m\n",
            "\u001b[0;32m/usr/local/lib/python3.6/dist-packages/pandas/core/internals/construction.py\u001b[0m in \u001b[0;36minit_ndarray\u001b[0;34m(values, index, columns, dtype, copy)\u001b[0m\n\u001b[1;32m    167\u001b[0m     \u001b[0;31m# by definition an array here\u001b[0m\u001b[0;34m\u001b[0m\u001b[0;34m\u001b[0m\u001b[0;34m\u001b[0m\u001b[0m\n\u001b[1;32m    168\u001b[0m     \u001b[0;31m# the dtypes will be coerced to a single dtype\u001b[0m\u001b[0;34m\u001b[0m\u001b[0;34m\u001b[0m\u001b[0;34m\u001b[0m\u001b[0m\n\u001b[0;32m--> 169\u001b[0;31m     \u001b[0mvalues\u001b[0m \u001b[0;34m=\u001b[0m \u001b[0mprep_ndarray\u001b[0m\u001b[0;34m(\u001b[0m\u001b[0mvalues\u001b[0m\u001b[0;34m,\u001b[0m \u001b[0mcopy\u001b[0m\u001b[0;34m=\u001b[0m\u001b[0mcopy\u001b[0m\u001b[0;34m)\u001b[0m\u001b[0;34m\u001b[0m\u001b[0;34m\u001b[0m\u001b[0m\n\u001b[0m\u001b[1;32m    170\u001b[0m \u001b[0;34m\u001b[0m\u001b[0m\n\u001b[1;32m    171\u001b[0m     \u001b[0;32mif\u001b[0m \u001b[0mdtype\u001b[0m \u001b[0;32mis\u001b[0m \u001b[0;32mnot\u001b[0m \u001b[0;32mNone\u001b[0m\u001b[0;34m:\u001b[0m\u001b[0;34m\u001b[0m\u001b[0;34m\u001b[0m\u001b[0m\n",
            "\u001b[0;32m/usr/local/lib/python3.6/dist-packages/pandas/core/internals/construction.py\u001b[0m in \u001b[0;36mprep_ndarray\u001b[0;34m(values, copy)\u001b[0m\n\u001b[1;32m    293\u001b[0m         \u001b[0mvalues\u001b[0m \u001b[0;34m=\u001b[0m \u001b[0mvalues\u001b[0m\u001b[0;34m.\u001b[0m\u001b[0mreshape\u001b[0m\u001b[0;34m(\u001b[0m\u001b[0;34m(\u001b[0m\u001b[0mvalues\u001b[0m\u001b[0;34m.\u001b[0m\u001b[0mshape\u001b[0m\u001b[0;34m[\u001b[0m\u001b[0;36m0\u001b[0m\u001b[0;34m]\u001b[0m\u001b[0;34m,\u001b[0m \u001b[0;36m1\u001b[0m\u001b[0;34m)\u001b[0m\u001b[0;34m)\u001b[0m\u001b[0;34m\u001b[0m\u001b[0;34m\u001b[0m\u001b[0m\n\u001b[1;32m    294\u001b[0m     \u001b[0;32melif\u001b[0m \u001b[0mvalues\u001b[0m\u001b[0;34m.\u001b[0m\u001b[0mndim\u001b[0m \u001b[0;34m!=\u001b[0m \u001b[0;36m2\u001b[0m\u001b[0;34m:\u001b[0m\u001b[0;34m\u001b[0m\u001b[0;34m\u001b[0m\u001b[0m\n\u001b[0;32m--> 295\u001b[0;31m         \u001b[0;32mraise\u001b[0m \u001b[0mValueError\u001b[0m\u001b[0;34m(\u001b[0m\u001b[0;34m\"Must pass 2-d input\"\u001b[0m\u001b[0;34m)\u001b[0m\u001b[0;34m\u001b[0m\u001b[0;34m\u001b[0m\u001b[0m\n\u001b[0m\u001b[1;32m    296\u001b[0m \u001b[0;34m\u001b[0m\u001b[0m\n\u001b[1;32m    297\u001b[0m     \u001b[0;32mreturn\u001b[0m \u001b[0mvalues\u001b[0m\u001b[0;34m\u001b[0m\u001b[0;34m\u001b[0m\u001b[0m\n",
            "\u001b[0;31mValueError\u001b[0m: Must pass 2-d input"
          ]
        }
      ]
    },
    {
      "cell_type": "code",
      "metadata": {
        "id": "zdAAPfSrO8MX",
        "colab_type": "code",
        "colab": {
          "base_uri": "https://localhost:8080/",
          "height": 541
        },
        "outputId": "e71d698f-390b-4f60-c7c3-24a82bdb8e3b"
      },
      "source": [
        "plt.imshow(fm, cmap='hot')\n",
        "np.set_printoptions(precision=4)\n",
        "np.set_printoptions(linewidth=150)\n",
        "print(fm)"
      ],
      "execution_count": 108,
      "outputs": [
        {
          "output_type": "stream",
          "text": [
            "[[ 0.3395  0.3705  0.3238  0.3562  0.3465  0.3465  0.3465  0.3465  0.3157  0.351   0.3363  0.3367  0.3467  0.3187  0.2709  0.3465]\n",
            " [ 0.3315  0.3465  0.3292  0.3465  0.3775  0.3365  0.3302  0.3426  0.3077  0.3442  0.3673  0.3249  0.3271  0.324   0.3253  0.3564]\n",
            " [ 0.342   0.3418  0.3329  0.3481  0.3138  0.3278 -0.1439 -0.1353 -0.1406 -0.1391 -0.1306 -0.1273 -0.1421 -0.1427  0.3493  0.3048]\n",
            " [ 0.3482  0.34    0.3526  0.3838  0.3465  0.3476 -0.141  -0.1288 -0.141  -0.1364 -0.1372 -0.1422 -0.1245 -0.1434  0.3259  0.3071]\n",
            " [ 0.3239  0.2561  0.359   0.3383  0.3465  0.3232 -0.1418 -0.1392 -0.1289 -0.1368 -0.1398 -0.1423 -0.1392 -0.1319  0.3465  0.3465]\n",
            " [ 0.3465  0.3334  0.3445  0.3249  0.3116  0.358  -0.1429 -0.1403 -0.1403 -0.1365 -0.1394 -0.1407 -0.135  -0.1417  0.3632  0.3465]\n",
            " [ 0.3528  0.361   0.3588  0.2939  0.3489  0.3365 -0.1405 -0.1159 -0.1387 -0.1368 -0.1362 -0.142  -0.1421 -0.1439  0.3465  0.3557]\n",
            " [ 0.3145  0.2918  0.3065  0.3407  0.3075  0.3465 -0.1418 -0.1439 -0.1413 -0.1432 -0.1322 -0.1423 -0.1435 -0.1384  0.3183  0.3465]\n",
            " [ 0.341   0.3232  0.3503  0.3465  0.3223  0.3348 -0.1336 -0.1381 -0.1421 -0.1333 -0.1427 -0.1439 -0.1296 -0.1388  0.3278  0.3465]\n",
            " [ 0.3471  0.3661  0.2701  0.2589  0.3247  0.3602 -0.1365 -0.1401 -0.1381 -0.1321 -0.1439 -0.1439 -0.1397 -0.142   0.3175  0.3544]\n",
            " [ 0.348   0.3616  0.3465  0.3688  0.3465  0.3207  0.3457  0.3633  0.3292  0.3651  0.3033  0.3382  0.3691  0.3146  0.3087  0.3415]\n",
            " [ 0.3549  0.3434  0.3258  0.2805  0.3329  0.314   0.3107  0.2598  0.3628  0.3408  0.3331  0.3325  0.3325  0.3559  0.3446  0.2696]\n",
            " [ 0.3465  0.2851  0.2855  0.3439  0.3308  0.3443  0.3036  0.3297  0.348   0.2964  0.3371  0.3465  0.3568  0.305   0.3409  0.354 ]\n",
            " [ 0.3406  0.3348  0.3465  0.3677  0.3464  0.3192  0.3584  0.2979  0.3511  0.3154  0.3237  0.3537  0.3365  0.3465  0.3465  0.319 ]\n",
            " [ 0.2801  0.2328  0.3441  0.3482  0.3551  0.3083  0.3465  0.3623  0.3465  0.2789  0.2913  0.3576  0.3465  0.345   0.3417  0.3503]\n",
            " [ 0.3415  0.2558  0.3118  0.3364  0.3465  0.3465  0.3271  0.37    0.3439  0.3668  0.3493  0.3201  0.332   0.3242  0.3511  0.3211]]\n"
          ],
          "name": "stdout"
        },
        {
          "output_type": "display_data",
          "data": {
            "image/png": "[encoded data removed]",
            "text/plain": [
              "<Figure size 432x288 with 1 Axes>"
            ]
          },
          "metadata": {
            "tags": [],
            "needs_background": "light"
          }
        }
      ]
    },
    {
      "cell_type": "code",
      "metadata": {
        "id": "anO7HrZYPML-",
        "colab_type": "code",
        "colab": {
          "base_uri": "https://localhost:8080/",
          "height": 880
        },
        "outputId": "7c5c62f7-8570-4062-eb08-7edfde6bc339"
      },
      "source": [
        "f, axes = plt.subplots(2, 2, figsize=(15, 15), sharex=True)\n",
        "sns.despine(left=True)\n",
        "sns.heatmap(fm, cmap='coolwarm', cbar=False, annot=True, fmt=\".1f\", ax=axes[0, 0])\n",
        "sns.heatmap(fm, cmap='coolwarm', ax=axes[0, 1])"
      ],
      "execution_count": 95,
      "outputs": [
        {
          "output_type": "execute_result",
          "data": {
            "text/plain": [
              "<matplotlib.axes._subplots.AxesSubplot at 0x7f51babd10f0>"
            ]
          },
          "metadata": {
            "tags": []
          },
          "execution_count": 95
        },
        {
          "output_type": "display_data",
          "data": {
            "image/png": "[encoded data removed]",
            "text/plain": [
              "<Figure size 1080x1080 with 5 Axes>"
            ]
          },
          "metadata": {
            "tags": [],
            "needs_background": "light"
          }
        }
      ]
    },
    {
      "cell_type": "code",
      "metadata": {
        "id": "ClHxeQCgQ_yP",
        "colab_type": "code",
        "colab": {}
      },
      "source": [
        ""
      ],
      "execution_count": null,
      "outputs": []
    }
  ]
}